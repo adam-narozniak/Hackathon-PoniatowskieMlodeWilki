{
 "cells": [
  {
   "cell_type": "code",
   "execution_count": 46,
   "id": "pursuant-opera",
   "metadata": {},
   "outputs": [],
   "source": [
    "import pandas as pd\n",
    "import numpy as np\n",
    "import pathlib\n",
    "import matplotlib.pyplot as plt\n",
    "import sklearn\n",
    "from sklearn.pipeline import Pipeline\n",
    "from sklearn.impute import SimpleImputer\n",
    "from sklearn.model_selection import train_test_split\n",
    "from sklearn.compose import ColumnTransformer\n",
    "from sklearn.preprocessing import StandardScaler\n",
    "from sklearn.svm import SVC\n",
    "from sklearn.preprocessing import LabelEncoder\n",
    "from sklearn.model_selection import GridSearchCV\n",
    "from sklearn.metrics import accuracy_score\n",
    "%matplotlib inline"
   ]
  },
  {
   "cell_type": "code",
   "execution_count": 3,
   "id": "strategic-throat",
   "metadata": {},
   "outputs": [],
   "source": [
    "cwd = pathlib.Path().cwd()\n",
    "data_path = cwd/\"dataset\"/\"final_train.csv\"\n",
    "pd.set_option(\"display.max_rows\", None, \"display.max_columns\", None)\n",
    "data = pd.read_csv(data_path, index_col=0)"
   ]
  },
  {
   "cell_type": "code",
   "execution_count": 4,
   "id": "collaborative-surgeon",
   "metadata": {},
   "outputs": [],
   "source": [
    "# drop rows\n",
    "data_d = data.dropna()"
   ]
  },
  {
   "cell_type": "code",
   "execution_count": 10,
   "id": "seeing-pierre",
   "metadata": {},
   "outputs": [],
   "source": [
    "def data_to_train_valid(data):\n",
    "    y = data.loc[:, \"Activity\"].copy()\n",
    "    X = data.drop([\"Activity\", \"subject\", \"void()\"], axis=1)\n",
    "    #simple split\n",
    "    X_train, X_valid, y_train, y_valid = train_test_split(X, y, test_size=0.2, random_state=0)\n",
    "    return X_train, X_valid, y_train, y_valid"
   ]
  },
  {
   "cell_type": "code",
   "execution_count": 6,
   "id": "familiar-reservoir",
   "metadata": {},
   "outputs": [],
   "source": [
    "def encode_y(y_train, y_valid):\n",
    "    label_encoder = LabelEncoder()\n",
    "    y_train = label_encoder.fit_transform(y_train)\n",
    "    y_valid = label_encoder.transform(y_valid)\n",
    "    return y_train, y_valid, label_encoder"
   ]
  },
  {
   "cell_type": "markdown",
   "id": "middle-commonwealth",
   "metadata": {},
   "source": [
    "## Split data, encode y labels"
   ]
  },
  {
   "cell_type": "code",
   "execution_count": null,
   "id": "negative-square",
   "metadata": {},
   "outputs": [],
   "source": [
    "X_train, X_valid, y_train, y_valid = data_to_train_valid(data)"
   ]
  },
  {
   "cell_type": "code",
   "execution_count": 41,
   "id": "prepared-joseph",
   "metadata": {},
   "outputs": [],
   "source": [
    "y_train, y_valid, label_encoder = encode_y(y_train, y_valid)"
   ]
  },
  {
   "cell_type": "code",
   "execution_count": 30,
   "id": "listed-clinton",
   "metadata": {},
   "outputs": [],
   "source": [
    "numerical_columns = list(X_train.columns.values)"
   ]
  },
  {
   "cell_type": "code",
   "execution_count": 72,
   "id": "asian-courtesy",
   "metadata": {},
   "outputs": [],
   "source": [
    "numerical_transformer = SimpleImputer(strategy='median')\n",
    "scaler = StandardScaler()\n",
    "preproc = ColumnTransformer(\n",
    "    transformers=[\n",
    "        ('num', numerical_transformer, numerical_columns)\n",
    "       \n",
    "    ])"
   ]
  },
  {
   "cell_type": "code",
   "execution_count": 73,
   "id": "automotive-converter",
   "metadata": {},
   "outputs": [],
   "source": [
    "svc = SVC(C=1)\n",
    "main_pipe = Pipeline(steps=[('preproc', preproc),\n",
    "                            ('scaler', scaler),\n",
    "                            ('model', svc)]\n",
    "                     )"
   ]
  },
  {
   "cell_type": "markdown",
   "id": "rough-plaintiff",
   "metadata": {},
   "source": [
    "check how scaler works"
   ]
  },
  {
   "cell_type": "code",
   "execution_count": 75,
   "id": "arranged-clock",
   "metadata": {},
   "outputs": [
    {
     "data": {
      "text/plain": [
       "0"
      ]
     },
     "execution_count": 75,
     "metadata": {},
     "output_type": "execute_result"
    }
   ],
   "source": [
    "scaler.fit(X_train)\n",
    "\n",
    "np.isinf(scaler.transform(X_train)).sum()"
   ]
  },
  {
   "cell_type": "markdown",
   "id": "comparative-patio",
   "metadata": {},
   "source": [
    "check how main_pipe works"
   ]
  },
  {
   "cell_type": "code",
   "execution_count": 76,
   "id": "functional-working",
   "metadata": {},
   "outputs": [],
   "source": [
    "main_pipe.fit(X_train, y_train);"
   ]
  },
  {
   "cell_type": "code",
   "execution_count": null,
   "id": "featured-involvement",
   "metadata": {},
   "outputs": [],
   "source": [
    "main_pipe.pred(X_valid)"
   ]
  },
  {
   "cell_type": "code",
   "execution_count": 47,
   "id": "gothic-saver",
   "metadata": {
    "scrolled": false
   },
   "outputs": [
    {
     "data": {
      "text/plain": [
       "0.9125338142470695"
      ]
     },
     "execution_count": 47,
     "metadata": {},
     "output_type": "execute_result"
    }
   ],
   "source": [
    "accuracy_score(y_pred, y_valid)"
   ]
  },
  {
   "cell_type": "markdown",
   "id": "eastern-midnight",
   "metadata": {},
   "source": [
    "# Grid search"
   ]
  },
  {
   "cell_type": "code",
   "execution_count": 79,
   "id": "smooth-nightmare",
   "metadata": {},
   "outputs": [],
   "source": [
    "params_grid = [{'model__kernel': ['rbf'], 'model__gamma': [1e-3, 1e-4],\n",
    "                     'model__C': [1, 10, 100, 1000]},\n",
    "                    {'model__kernel': ['linear'], 'model__C': [1, 10, 100, 1000]}]"
   ]
  },
  {
   "cell_type": "code",
   "execution_count": 80,
   "id": "looking-friendly",
   "metadata": {},
   "outputs": [],
   "source": [
    "svc_grid = GridSearchCV(main_pipe, params_grid, cv=5, verbose=2, jobs=-1)"
   ]
  },
  {
   "cell_type": "code",
   "execution_count": 81,
   "id": "partial-candy",
   "metadata": {},
   "outputs": [
    {
     "data": {
      "text/plain": [
       "dict_keys(['memory', 'steps', 'verbose', 'preproc', 'scaler', 'model', 'preproc__n_jobs', 'preproc__remainder', 'preproc__sparse_threshold', 'preproc__transformer_weights', 'preproc__transformers', 'preproc__verbose', 'preproc__num', 'preproc__num__add_indicator', 'preproc__num__copy', 'preproc__num__fill_value', 'preproc__num__missing_values', 'preproc__num__strategy', 'preproc__num__verbose', 'scaler__copy', 'scaler__with_mean', 'scaler__with_std', 'model__C', 'model__break_ties', 'model__cache_size', 'model__class_weight', 'model__coef0', 'model__decision_function_shape', 'model__degree', 'model__gamma', 'model__kernel', 'model__max_iter', 'model__probability', 'model__random_state', 'model__shrinking', 'model__tol', 'model__verbose'])"
      ]
     },
     "execution_count": 81,
     "metadata": {},
     "output_type": "execute_result"
    }
   ],
   "source": [
    "main_pipe.get_params().keys()"
   ]
  },
  {
   "cell_type": "code",
   "execution_count": 82,
   "id": "graduate-regression",
   "metadata": {},
   "outputs": [
    {
     "name": "stdout",
     "output_type": "stream",
     "text": [
      "Fitting 5 folds for each of 12 candidates, totalling 60 fits\n"
     ]
    },
    {
     "data": {
      "text/plain": [
       "GridSearchCV(cv=5,\n",
       "             estimator=Pipeline(steps=[('preproc',\n",
       "                                        ColumnTransformer(transformers=[('num',\n",
       "                                                                         SimpleImputer(strategy='median'),\n",
       "                                                                         ['angle(X,gravityMean)',\n",
       "                                                                          'angle(Y,gravityMean)',\n",
       "                                                                          'angle(Z,gravityMean)',\n",
       "                                                                          'angle(tBodyAccJerkMean),gravityMean)',\n",
       "                                                                          'angle(tBodyAccMean,gravity)',\n",
       "                                                                          'angle(tBodyGyroJerkMean,gravityMean)',\n",
       "                                                                          'angle(tBodyGyroMean,gravityMean)',\n",
       "                                                                          'energy-me...\n",
       "                                                                          'fBodyAcc-bandsEnergy()-25,32.2',\n",
       "                                                                          'fBodyAcc-bandsEnergy()-25,48',\n",
       "                                                                          'fBodyAcc-bandsEnergy()-25,48.1',\n",
       "                                                                          'fBodyAcc-bandsEnergy()-25,48.2',\n",
       "                                                                          'fBodyAcc-bandsEnergy()-33,40', ...])])),\n",
       "                                       ('scaler', StandardScaler()),\n",
       "                                       ('model', SVC(C=1))]),\n",
       "             param_grid=[{'model__C': [1, 10, 100, 1000],\n",
       "                          'model__gamma': [0.001, 0.0001],\n",
       "                          'model__kernel': ['rbf']},\n",
       "                         {'model__C': [1, 10, 100, 1000],\n",
       "                          'model__kernel': ['linear']}],\n",
       "             verbose=1)"
      ]
     },
     "execution_count": 82,
     "metadata": {},
     "output_type": "execute_result"
    }
   ],
   "source": [
    "svc_grid.fit(X_train, y_train)"
   ]
  },
  {
   "cell_type": "code",
   "execution_count": 84,
   "id": "filled-colleague",
   "metadata": {
    "scrolled": true
   },
   "outputs": [
    {
     "data": {
      "text/plain": [
       "0.9890619088405501"
      ]
     },
     "execution_count": 84,
     "metadata": {},
     "output_type": "execute_result"
    }
   ],
   "source": [
    "svc_grid.best_score_"
   ]
  },
  {
   "cell_type": "code",
   "execution_count": 98,
   "id": "cheap-branch",
   "metadata": {
    "scrolled": true
   },
   "outputs": [
    {
     "data": {
      "text/plain": [
       "{'model__C': 100, 'model__gamma': 0.001, 'model__kernel': 'rbf'}"
      ]
     },
     "execution_count": 98,
     "metadata": {},
     "output_type": "execute_result"
    }
   ],
   "source": [
    "svc_grid.best_params_"
   ]
  },
  {
   "cell_type": "code",
   "execution_count": 99,
   "id": "bridal-confidentiality",
   "metadata": {},
   "outputs": [],
   "source": [
    "best_svc = svc_grid.best_estimator_"
   ]
  },
  {
   "cell_type": "code",
   "execution_count": 100,
   "id": "shaped-temperature",
   "metadata": {},
   "outputs": [],
   "source": [
    "y_pred = best_svc.predict(X_valid)"
   ]
  },
  {
   "cell_type": "code",
   "execution_count": 101,
   "id": "private-implementation",
   "metadata": {},
   "outputs": [
    {
     "data": {
      "text/plain": [
       "0.9873760144274121"
      ]
     },
     "execution_count": 101,
     "metadata": {},
     "output_type": "execute_result"
    }
   ],
   "source": [
    "accuracy_score(y_pred, y_valid)"
   ]
  }
 ],
 "metadata": {
  "kernelspec": {
   "display_name": "Python 3",
   "language": "python",
   "name": "python3"
  },
  "language_info": {
   "codemirror_mode": {
    "name": "ipython",
    "version": 3
   },
   "file_extension": ".py",
   "mimetype": "text/x-python",
   "name": "python",
   "nbconvert_exporter": "python",
   "pygments_lexer": "ipython3",
   "version": "3.8.5"
  }
 },
 "nbformat": 4,
 "nbformat_minor": 5
}
