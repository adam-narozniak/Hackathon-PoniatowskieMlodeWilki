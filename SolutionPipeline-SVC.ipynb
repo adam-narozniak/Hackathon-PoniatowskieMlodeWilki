{
 "cells": [
  {
   "cell_type": "code",
   "execution_count": 46,
   "id": "scheduled-governor",
   "metadata": {},
   "outputs": [],
   "source": [
    "import pandas as pd\n",
    "import numpy as np\n",
    "import pathlib\n",
    "import matplotlib.pyplot as plt\n",
    "import sklearn\n",
    "from sklearn.pipeline import Pipeline\n",
    "from sklearn.impute import SimpleImputer\n",
    "from sklearn.model_selection import train_test_split\n",
    "from sklearn.compose import ColumnTransformer\n",
    "from sklearn.preprocessing import StandardScaler\n",
    "from sklearn.svm import SVC\n",
    "from sklearn.preprocessing import LabelEncoder\n",
    "from sklearn.model_selection import GridSearchCV\n",
    "from sklearn.metrics import accuracy_score\n",
    "%matplotlib inline"
   ]
  },
  {
   "cell_type": "code",
   "execution_count": 3,
   "id": "exceptional-above",
   "metadata": {},
   "outputs": [],
   "source": [
    "cwd = pathlib.Path().cwd()\n",
    "data_path = cwd/\"dataset\"/\"final_train.csv\"\n",
    "pd.set_option(\"display.max_rows\", None, \"display.max_columns\", None)\n",
    "data = pd.read_csv(data_path, index_col=0)"
   ]
  },
  {
   "cell_type": "code",
   "execution_count": 4,
   "id": "broken-wholesale",
   "metadata": {},
   "outputs": [],
   "source": [
    "# drop rows\n",
    "data_d = data.dropna()"
   ]
  },
  {
   "cell_type": "code",
   "execution_count": 10,
   "id": "varied-cocktail",
   "metadata": {},
   "outputs": [],
   "source": [
    "def data_to_train_valid(data):\n",
    "    y = data.loc[:, \"Activity\"].copy()\n",
    "    X = data.drop([\"Activity\", \"subject\", \"void()\"], axis=1)\n",
    "    #simple split\n",
    "    X_train, X_valid, y_train, y_valid = train_test_split(X, y, test_size=0.2, random_state=0)\n",
    "    return X_train, X_valid, y_train, y_valid"
   ]
  },
  {
   "cell_type": "code",
   "execution_count": 6,
   "id": "acoustic-found",
   "metadata": {},
   "outputs": [],
   "source": [
    "def encode_y(y_train, y_valid):\n",
    "    label_encoder = LabelEncoder()\n",
    "    y_train = label_encoder.fit_transform(y_train)\n",
    "    y_valid = label_encoder.transform(y_valid)\n",
    "    return y_train, y_valid, label_encoder"
   ]
  },
  {
   "cell_type": "markdown",
   "id": "functioning-compromise",
   "metadata": {},
   "source": [
    "## Split data, encode y labels"
   ]
  },
  {
   "cell_type": "code",
   "execution_count": null,
   "id": "distant-siemens",
   "metadata": {},
   "outputs": [],
   "source": [
    "X_train, X_valid, y_train, y_valid = data_to_train_valid(data)"
   ]
  },
  {
   "cell_type": "code",
   "execution_count": 41,
   "id": "lesbian-english",
   "metadata": {},
   "outputs": [],
   "source": [
    "y_train, y_valid, label_encoder = encode_y(y_train, y_valid)"
   ]
  },
  {
   "cell_type": "code",
   "execution_count": 30,
   "id": "contrary-county",
   "metadata": {},
   "outputs": [],
   "source": [
    "numerical_columns = list(X_train.columns.values)"
   ]
  },
  {
   "cell_type": "code",
   "execution_count": 72,
   "id": "angry-drive",
   "metadata": {},
   "outputs": [],
   "source": [
    "numerical_transformer = SimpleImputer(strategy='median')\n",
    "scaler = StandardScaler()\n",
    "preproc = ColumnTransformer(\n",
    "    transformers=[\n",
    "        ('num', numerical_transformer, numerical_columns)\n",
    "       \n",
    "    ])"
   ]
  },
  {
   "cell_type": "code",
   "execution_count": 73,
   "id": "continent-harassment",
   "metadata": {},
   "outputs": [],
   "source": [
    "svc = SVC(C=1)\n",
    "main_pipe = Pipeline(steps=[('preproc', preproc),\n",
    "                            ('scaler', scaler),\n",
    "                            ('model', svc)]\n",
    "                     )"
   ]
  },
  {
   "cell_type": "markdown",
   "id": "knowing-session",
   "metadata": {},
   "source": [
    "check how scaler works"
   ]
  },
  {
   "cell_type": "code",
   "execution_count": 75,
   "id": "involved-dylan",
   "metadata": {},
   "outputs": [
    {
     "data": {
      "text/plain": [
       "0"
      ]
     },
     "execution_count": 75,
     "metadata": {},
     "output_type": "execute_result"
    }
   ],
   "source": [
    "scaler.fit(X_train)\n",
    "\n",
    "np.isinf(scaler.transform(X_train)).sum()"
   ]
  },
  {
   "cell_type": "markdown",
   "id": "pleased-solomon",
   "metadata": {},
   "source": [
    "check how main_pipe works"
   ]
  },
  {
   "cell_type": "code",
   "execution_count": 76,
   "id": "secret-trick",
   "metadata": {},
   "outputs": [],
   "source": [
    "main_pipe.fit(X_train, y_train);"
   ]
  },
  {
   "cell_type": "code",
   "execution_count": null,
   "id": "imperial-temple",
   "metadata": {},
   "outputs": [],
   "source": [
    "main_pipe.pred(X_valid)"
   ]
  },
  {
   "cell_type": "code",
   "execution_count": 47,
   "id": "structured-response",
   "metadata": {
    "scrolled": false
   },
   "outputs": [
    {
     "data": {
      "text/plain": [
       "0.9125338142470695"
      ]
     },
     "execution_count": 47,
     "metadata": {},
     "output_type": "execute_result"
    }
   ],
   "source": [
    "accuracy_score(y_pred, y_valid)"
   ]
  },
  {
   "cell_type": "markdown",
   "id": "knowing-sentence",
   "metadata": {},
   "source": [
    "# Grid search"
   ]
  },
  {
   "cell_type": "code",
   "execution_count": 79,
   "id": "laughing-trail",
   "metadata": {},
   "outputs": [],
   "source": [
    "params_grid = [{'model__kernel': ['rbf'], 'model__gamma': [1e-3, 1e-4],\n",
    "                     'model__C': [1, 10, 100, 1000]},\n",
    "                    {'model__kernel': ['linear'], 'model__C': [1, 10, 100, 1000]}]"
   ]
  },
  {
   "cell_type": "code",
   "execution_count": 80,
   "id": "anonymous-building",
   "metadata": {},
   "outputs": [],
   "source": [
    "svc_grid = GridSearchCV(main_pipe, params_grid, cv=5, verbose=2, n_jobs=-1)"
   ]
  },
  {
   "cell_type": "code",
   "execution_count": 81,
   "id": "available-independence",
   "metadata": {},
   "outputs": [
    {
     "data": {
      "text/plain": [
       "dict_keys(['memory', 'steps', 'verbose', 'preproc', 'scaler', 'model', 'preproc__n_jobs', 'preproc__remainder', 'preproc__sparse_threshold', 'preproc__transformer_weights', 'preproc__transformers', 'preproc__verbose', 'preproc__num', 'preproc__num__add_indicator', 'preproc__num__copy', 'preproc__num__fill_value', 'preproc__num__missing_values', 'preproc__num__strategy', 'preproc__num__verbose', 'scaler__copy', 'scaler__with_mean', 'scaler__with_std', 'model__C', 'model__break_ties', 'model__cache_size', 'model__class_weight', 'model__coef0', 'model__decision_function_shape', 'model__degree', 'model__gamma', 'model__kernel', 'model__max_iter', 'model__probability', 'model__random_state', 'model__shrinking', 'model__tol', 'model__verbose'])"
      ]
     },
     "execution_count": 81,
     "metadata": {},
     "output_type": "execute_result"
    }
   ],
   "source": [
    "main_pipe.get_params().keys()"
   ]
  },
  {
   "cell_type": "code",
   "execution_count": 82,
   "id": "cheap-injection",
   "metadata": {},
   "outputs": [
    {
     "name": "stdout",
     "output_type": "stream",
     "text": [
      "Fitting 5 folds for each of 12 candidates, totalling 60 fits\n"
     ]
    },
    {
     "data": {
      "text/plain": [
       "GridSearchCV(cv=5,\n",
       "             estimator=Pipeline(steps=[('preproc',\n",
       "                                        ColumnTransformer(transformers=[('num',\n",
       "                                                                         SimpleImputer(strategy='median'),\n",
       "                                                                         ['angle(X,gravityMean)',\n",
       "                                                                          'angle(Y,gravityMean)',\n",
       "                                                                          'angle(Z,gravityMean)',\n",
       "                                                                          'angle(tBodyAccJerkMean),gravityMean)',\n",
       "                                                                          'angle(tBodyAccMean,gravity)',\n",
       "                                                                          'angle(tBodyGyroJerkMean,gravityMean)',\n",
       "                                                                          'angle(tBodyGyroMean,gravityMean)',\n",
       "                                                                          'energy-me...\n",
       "                                                                          'fBodyAcc-bandsEnergy()-25,32.2',\n",
       "                                                                          'fBodyAcc-bandsEnergy()-25,48',\n",
       "                                                                          'fBodyAcc-bandsEnergy()-25,48.1',\n",
       "                                                                          'fBodyAcc-bandsEnergy()-25,48.2',\n",
       "                                                                          'fBodyAcc-bandsEnergy()-33,40', ...])])),\n",
       "                                       ('scaler', StandardScaler()),\n",
       "                                       ('model', SVC(C=1))]),\n",
       "             param_grid=[{'model__C': [1, 10, 100, 1000],\n",
       "                          'model__gamma': [0.001, 0.0001],\n",
       "                          'model__kernel': ['rbf']},\n",
       "                         {'model__C': [1, 10, 100, 1000],\n",
       "                          'model__kernel': ['linear']}],\n",
       "             verbose=1)"
      ]
     },
     "execution_count": 82,
     "metadata": {},
     "output_type": "execute_result"
    }
   ],
   "source": [
    "svc_grid.fit(X_train, y_train)"
   ]
  },
  {
   "cell_type": "code",
   "execution_count": 84,
   "id": "bibliographic-burns",
   "metadata": {
    "scrolled": true
   },
   "outputs": [
    {
     "data": {
      "text/plain": [
       "0.9890619088405501"
      ]
     },
     "execution_count": 84,
     "metadata": {},
     "output_type": "execute_result"
    }
   ],
   "source": [
    "svc_grid.best_score_"
   ]
  },
  {
   "cell_type": "code",
   "execution_count": 98,
   "id": "partial-cinema",
   "metadata": {
    "scrolled": true
   },
   "outputs": [
    {
     "data": {
      "text/plain": [
       "{'model__C': 100, 'model__gamma': 0.001, 'model__kernel': 'rbf'}"
      ]
     },
     "execution_count": 98,
     "metadata": {},
     "output_type": "execute_result"
    }
   ],
   "source": [
    "svc_grid.best_params_"
   ]
  },
  {
   "cell_type": "code",
   "execution_count": 99,
   "id": "exempt-communist",
   "metadata": {},
   "outputs": [],
   "source": [
    "best_svc = svc_grid.best_estimator_"
   ]
  },
  {
   "cell_type": "code",
   "execution_count": 100,
   "id": "resistant-journalist",
   "metadata": {},
   "outputs": [],
   "source": [
    "y_pred = best_svc.predict(X_valid)"
   ]
  },
  {
   "cell_type": "code",
   "execution_count": 101,
   "id": "stupid-rainbow",
   "metadata": {
    "scrolled": true
   },
   "outputs": [
    {
     "data": {
      "text/plain": [
       "0.9873760144274121"
      ]
     },
     "execution_count": 101,
     "metadata": {},
     "output_type": "execute_result"
    }
   ],
   "source": [
    "accuracy_score(y_pred, y_valid)"
   ]
  },
  {
   "cell_type": "markdown",
   "id": "photographic-profession",
   "metadata": {},
   "source": [
    "# Logistic Regression"
   ]
  },
  {
   "cell_type": "code",
   "execution_count": 103,
   "id": "pending-staff",
   "metadata": {},
   "outputs": [],
   "source": [
    "from sklearn.linear_model import LogisticRegression\n",
    "log_reg = LogisticRegression()\n",
    "log_reg_pipe = Pipeline(steps=[('preproc', preproc),\n",
    "                            ('scaler', scaler),\n",
    "                            ('model', log_reg)]\n",
    "                     )"
   ]
  },
  {
   "cell_type": "code",
   "execution_count": 104,
   "id": "relevant-mouth",
   "metadata": {},
   "outputs": [
    {
     "data": {
      "text/plain": [
       "dict_keys(['memory', 'steps', 'verbose', 'preproc', 'scaler', 'model', 'preproc__n_jobs', 'preproc__remainder', 'preproc__sparse_threshold', 'preproc__transformer_weights', 'preproc__transformers', 'preproc__verbose', 'preproc__num', 'preproc__num__add_indicator', 'preproc__num__copy', 'preproc__num__fill_value', 'preproc__num__missing_values', 'preproc__num__strategy', 'preproc__num__verbose', 'scaler__copy', 'scaler__with_mean', 'scaler__with_std', 'model__C', 'model__class_weight', 'model__dual', 'model__fit_intercept', 'model__intercept_scaling', 'model__l1_ratio', 'model__max_iter', 'model__multi_class', 'model__n_jobs', 'model__penalty', 'model__random_state', 'model__solver', 'model__tol', 'model__verbose', 'model__warm_start'])"
      ]
     },
     "execution_count": 104,
     "metadata": {},
     "output_type": "execute_result"
    }
   ],
   "source": [
    "log_reg_pipe.get_params().keys()"
   ]
  },
  {
   "cell_type": "code",
   "execution_count": 105,
   "id": "recovered-bulgarian",
   "metadata": {},
   "outputs": [],
   "source": [
    "params_grid = {'model__C':[0.01, 0.03, 0.1, 0.3, 1, 10, 30], 'model__penalty':['l1', 'l2']}"
   ]
  },
  {
   "cell_type": "code",
   "execution_count": 109,
   "id": "local-wildlife",
   "metadata": {},
   "outputs": [],
   "source": [
    "log_reg_grid = GridSearchCV(log_reg_pipe, params_grid, cv=5, verbose=2, n_jobs=-1)"
   ]
  },
  {
   "cell_type": "code",
   "execution_count": null,
   "id": "incident-internet",
   "metadata": {},
   "outputs": [
    {
     "name": "stdout",
     "output_type": "stream",
     "text": [
      "Fitting 5 folds for each of 14 candidates, totalling 70 fits\n"
     ]
    }
   ],
   "source": [
    "log_reg_grid.fit(X_train, y_train)"
   ]
  },
  {
   "cell_type": "code",
   "execution_count": null,
   "id": "spatial-grill",
   "metadata": {},
   "outputs": [],
   "source": [
    "log_reg_grid.best_estimator_"
   ]
  },
  {
   "cell_type": "code",
   "execution_count": null,
   "id": "ordinary-screw",
   "metadata": {},
   "outputs": [],
   "source": [
    "log_reg_grid.best_params_"
   ]
  },
  {
   "cell_type": "code",
   "execution_count": null,
   "id": "explicit-butter",
   "metadata": {},
   "outputs": [],
   "source": []
  }
 ],
 "metadata": {
  "kernelspec": {
   "display_name": "Python 3",
   "language": "python",
   "name": "python3"
  },
  "language_info": {
   "codemirror_mode": {
    "name": "ipython",
    "version": 3
   },
   "file_extension": ".py",
   "mimetype": "text/x-python",
   "name": "python",
   "nbconvert_exporter": "python",
   "pygments_lexer": "ipython3",
   "version": "3.8.5"
  }
 },
 "nbformat": 4,
 "nbformat_minor": 5
}
