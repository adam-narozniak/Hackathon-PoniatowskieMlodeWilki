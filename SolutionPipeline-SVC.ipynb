{
 "cells": [
  {
   "cell_type": "code",
   "execution_count": 2,
   "id": "verified-reaction",
   "metadata": {},
   "outputs": [],
   "source": [
    "import pandas as pd\n",
    "import numpy as np\n",
    "import pathlib\n",
    "import matplotlib.pyplot as plt\n",
    "import sklearn\n",
    "from sklearn.pipeline import Pipeline\n",
    "from sklearn.impute import SimpleImputer\n",
    "from sklearn.model_selection import train_test_split\n",
    "from sklearn.compose import ColumnTransformer\n",
    "from sklearn.preprocessing import StandardScaler\n",
    "from sklearn.svm import SVC\n",
    "from sklearn.preprocessing import LabelEncoder\n",
    "from sklearn.model_selection import GridSearchCV\n",
    "from sklearn.metrics import accuracy_score\n",
    "from sklearn.metrics import confusion_matrix\n",
    "%matplotlib inline"
   ]
  },
  {
   "cell_type": "code",
   "execution_count": 3,
   "id": "progressive-allah",
   "metadata": {},
   "outputs": [],
   "source": [
    "cwd = pathlib.Path().cwd()\n",
    "data_path = cwd/\"dataset\"/\"final_train.csv\"\n",
    "pd.set_option(\"display.max_rows\", None, \"display.max_columns\", None)\n",
    "data = pd.read_csv(data_path, index_col=0)"
   ]
  },
  {
   "cell_type": "code",
   "execution_count": 4,
   "id": "smooth-stuart",
   "metadata": {},
   "outputs": [],
   "source": [
    "# drop rows\n",
    "data_d = data.dropna()"
   ]
  },
  {
   "cell_type": "code",
   "execution_count": 5,
   "id": "medium-joseph",
   "metadata": {},
   "outputs": [],
   "source": [
    "def data_to_train_valid(data):\n",
    "    y = data.loc[:, \"Activity\"].copy()\n",
    "    X = data.drop([\"Activity\", \"subject\", \"void()\"], axis=1)\n",
    "    #simple split\n",
    "    X_train, X_valid, y_train, y_valid = train_test_split(X, y, test_size=0.2, random_state=0)\n",
    "    return X_train, X_valid, y_train, y_valid"
   ]
  },
  {
   "cell_type": "code",
   "execution_count": 6,
   "id": "invisible-network",
   "metadata": {},
   "outputs": [],
   "source": [
    "def encode_y(y_train, y_valid):\n",
    "    label_encoder = LabelEncoder()\n",
    "    y_train = label_encoder.fit_transform(y_train)\n",
    "    y_valid = label_encoder.transform(y_valid)\n",
    "    return y_train, y_valid, label_encoder"
   ]
  },
  {
   "cell_type": "markdown",
   "id": "studied-spectrum",
   "metadata": {},
   "source": [
    "## Split data, encode y labels"
   ]
  },
  {
   "cell_type": "code",
   "execution_count": 7,
   "id": "optimum-sport",
   "metadata": {},
   "outputs": [],
   "source": [
    "X_train, X_valid, y_train, y_valid = data_to_train_valid(data)"
   ]
  },
  {
   "cell_type": "code",
   "execution_count": 8,
   "id": "active-seventh",
   "metadata": {},
   "outputs": [],
   "source": [
    "y_train, y_valid, label_encoder = encode_y(y_train, y_valid)"
   ]
  },
  {
   "cell_type": "code",
   "execution_count": 9,
   "id": "comfortable-kernel",
   "metadata": {},
   "outputs": [],
   "source": [
    "numerical_columns = list(X_train.columns.values)"
   ]
  },
  {
   "cell_type": "code",
   "execution_count": 10,
   "id": "healthy-christian",
   "metadata": {},
   "outputs": [],
   "source": [
    "numerical_transformer = SimpleImputer(strategy='median')\n",
    "scaler = StandardScaler()\n",
    "preproc = ColumnTransformer(\n",
    "    transformers=[\n",
    "        ('num', numerical_transformer, numerical_columns)\n",
    "       \n",
    "    ])"
   ]
  },
  {
   "cell_type": "markdown",
   "id": "looking-chocolate",
   "metadata": {},
   "source": [
    "# SVC"
   ]
  },
  {
   "cell_type": "code",
   "execution_count": 11,
   "id": "conventional-heaven",
   "metadata": {},
   "outputs": [],
   "source": [
    "svc = SVC(C=1)\n",
    "svc_pipe = Pipeline(steps=[('preproc', preproc),\n",
    "                            ('scaler', scaler),\n",
    "                            ('model', svc)]\n",
    "                     )"
   ]
  },
  {
   "cell_type": "markdown",
   "id": "blessed-norman",
   "metadata": {},
   "source": [
    "# Grid search"
   ]
  },
  {
   "cell_type": "code",
   "execution_count": 15,
   "id": "inclusive-establishment",
   "metadata": {},
   "outputs": [],
   "source": [
    "params_grid = [{'model__kernel': ['rbf'], 'model__gamma': [1e-3, 1e-4],\n",
    "                     'model__C': [1, 10, 100, 1000]},\n",
    "                    {'model__kernel': ['linear'], 'model__C': [1, 10, 100, 1000]}]"
   ]
  },
  {
   "cell_type": "code",
   "execution_count": 17,
   "id": "mobile-headquarters",
   "metadata": {},
   "outputs": [],
   "source": [
    "svc_grid = GridSearchCV(svc_pipe, params_grid, cv=5, verbose=2, n_jobs=-1)"
   ]
  },
  {
   "cell_type": "code",
   "execution_count": 18,
   "id": "rubber-element",
   "metadata": {},
   "outputs": [
    {
     "data": {
      "text/plain": [
       "dict_keys(['memory', 'steps', 'verbose', 'preproc', 'scaler', 'model', 'preproc__n_jobs', 'preproc__remainder', 'preproc__sparse_threshold', 'preproc__transformer_weights', 'preproc__transformers', 'preproc__verbose', 'preproc__num', 'preproc__num__add_indicator', 'preproc__num__copy', 'preproc__num__fill_value', 'preproc__num__missing_values', 'preproc__num__strategy', 'preproc__num__verbose', 'scaler__copy', 'scaler__with_mean', 'scaler__with_std', 'model__C', 'model__break_ties', 'model__cache_size', 'model__class_weight', 'model__coef0', 'model__decision_function_shape', 'model__degree', 'model__gamma', 'model__kernel', 'model__max_iter', 'model__probability', 'model__random_state', 'model__shrinking', 'model__tol', 'model__verbose'])"
      ]
     },
     "execution_count": 18,
     "metadata": {},
     "output_type": "execute_result"
    }
   ],
   "source": [
    "svc_pipe.get_params().keys()"
   ]
  },
  {
   "cell_type": "code",
   "execution_count": 19,
   "id": "modified-hospital",
   "metadata": {},
   "outputs": [
    {
     "name": "stdout",
     "output_type": "stream",
     "text": [
      "Fitting 5 folds for each of 12 candidates, totalling 60 fits\n"
     ]
    },
    {
     "data": {
      "text/plain": [
       "GridSearchCV(cv=5,\n",
       "             estimator=Pipeline(steps=[('preproc',\n",
       "                                        ColumnTransformer(transformers=[('num',\n",
       "                                                                         SimpleImputer(strategy='median'),\n",
       "                                                                         ['angle(X,gravityMean)',\n",
       "                                                                          'angle(Y,gravityMean)',\n",
       "                                                                          'angle(Z,gravityMean)',\n",
       "                                                                          'angle(tBodyAccJerkMean),gravityMean)',\n",
       "                                                                          'angle(tBodyAccMean,gravity)',\n",
       "                                                                          'angle(tBodyGyroJerkMean,gravityMean)',\n",
       "                                                                          'angle(tBodyGyroMean,gravityMean)',\n",
       "                                                                          'energy-me...\n",
       "                                                                          'fBodyAcc-bandsEnergy()-25,48',\n",
       "                                                                          'fBodyAcc-bandsEnergy()-25,48.1',\n",
       "                                                                          'fBodyAcc-bandsEnergy()-25,48.2',\n",
       "                                                                          'fBodyAcc-bandsEnergy()-33,40', ...])])),\n",
       "                                       ('scaler', StandardScaler()),\n",
       "                                       ('model', SVC(C=1))]),\n",
       "             n_jobs=-1,\n",
       "             param_grid=[{'model__C': [1, 10, 100, 1000],\n",
       "                          'model__gamma': [0.001, 0.0001],\n",
       "                          'model__kernel': ['rbf']},\n",
       "                         {'model__C': [1, 10, 100, 1000],\n",
       "                          'model__kernel': ['linear']}],\n",
       "             verbose=2)"
      ]
     },
     "execution_count": 19,
     "metadata": {},
     "output_type": "execute_result"
    }
   ],
   "source": [
    "svc_grid.fit(X_train, y_train)"
   ]
  },
  {
   "cell_type": "code",
   "execution_count": 20,
   "id": "bibliographic-nepal",
   "metadata": {
    "scrolled": true
   },
   "outputs": [
    {
     "data": {
      "text/plain": [
       "0.9890619088405501"
      ]
     },
     "execution_count": 20,
     "metadata": {},
     "output_type": "execute_result"
    }
   ],
   "source": [
    "svc_grid.best_score_"
   ]
  },
  {
   "cell_type": "code",
   "execution_count": 21,
   "id": "identified-swimming",
   "metadata": {
    "scrolled": true
   },
   "outputs": [
    {
     "data": {
      "text/plain": [
       "{'model__C': 100, 'model__gamma': 0.001, 'model__kernel': 'rbf'}"
      ]
     },
     "execution_count": 21,
     "metadata": {},
     "output_type": "execute_result"
    }
   ],
   "source": [
    "svc_grid.best_params_"
   ]
  },
  {
   "cell_type": "code",
   "execution_count": 22,
   "id": "adjusted-party",
   "metadata": {},
   "outputs": [],
   "source": [
    "best_svc = svc_grid.best_estimator_"
   ]
  },
  {
   "cell_type": "code",
   "execution_count": 23,
   "id": "ordinary-telephone",
   "metadata": {},
   "outputs": [],
   "source": [
    "y_pred_svc = best_svc.predict(X_valid)"
   ]
  },
  {
   "cell_type": "code",
   "execution_count": 24,
   "id": "dental-alarm",
   "metadata": {
    "scrolled": true
   },
   "outputs": [
    {
     "data": {
      "text/plain": [
       "0.9873760144274121"
      ]
     },
     "execution_count": 24,
     "metadata": {},
     "output_type": "execute_result"
    }
   ],
   "source": [
    "accuracy_score(y_pred_svc, y_valid)"
   ]
  },
  {
   "cell_type": "code",
   "execution_count": 25,
   "id": "another-orbit",
   "metadata": {},
   "outputs": [
    {
     "name": "stdout",
     "output_type": "stream",
     "text": [
      "['LAYING' 'SITTING' 'STANDING' 'WALKING' 'WALKING_DOWNSTAIRS'\n",
      " 'WALKING_UPSTAIRS']\n",
      "[0 1 2 3 4 5]\n"
     ]
    }
   ],
   "source": [
    "print(label_encoder.classes_)\n",
    "print(label_encoder.transform(label_encoder.classes_))"
   ]
  },
  {
   "cell_type": "markdown",
   "id": "skilled-boating",
   "metadata": {},
   "source": [
    "rows reality, columns predictions, for example (indexing from 0)row=1, col=2 : 21 is how many times sitting was predicted as standing"
   ]
  },
  {
   "cell_type": "code",
   "execution_count": 26,
   "id": "about-seeker",
   "metadata": {
    "scrolled": true
   },
   "outputs": [
    {
     "ename": "NameError",
     "evalue": "name 'y_pred' is not defined",
     "output_type": "error",
     "traceback": [
      "\u001b[0;31m---------------------------------------------------------------------------\u001b[0m",
      "\u001b[0;31mNameError\u001b[0m                                 Traceback (most recent call last)",
      "\u001b[0;32m<ipython-input-26-18ae401bf058>\u001b[0m in \u001b[0;36m<module>\u001b[0;34m\u001b[0m\n\u001b[0;32m----> 1\u001b[0;31m \u001b[0mconfusion_matrix\u001b[0m\u001b[0;34m(\u001b[0m\u001b[0my_pred\u001b[0m\u001b[0;34m,\u001b[0m \u001b[0my_valid\u001b[0m\u001b[0;34m)\u001b[0m\u001b[0;34m\u001b[0m\u001b[0;34m\u001b[0m\u001b[0m\n\u001b[0m",
      "\u001b[0;31mNameError\u001b[0m: name 'y_pred' is not defined"
     ]
    }
   ],
   "source": [
    "confusion_matrix(y_pred, y_valid)"
   ]
  },
  {
   "cell_type": "markdown",
   "id": "metric-consideration",
   "metadata": {},
   "source": [
    "svc deals greatly with all walkings "
   ]
  },
  {
   "cell_type": "markdown",
   "id": "small-amsterdam",
   "metadata": {},
   "source": [
    "# Logistic Regression"
   ]
  },
  {
   "cell_type": "code",
   "execution_count": null,
   "id": "minute-chance",
   "metadata": {},
   "outputs": [],
   "source": [
    "from sklearn.linear_model import LogisticRegression\n",
    "log_reg = LogisticRegression()\n",
    "log_reg_pipe = Pipeline(steps=[('preproc', preproc),\n",
    "                            ('scaler', scaler),\n",
    "                            ('model', log_reg)]\n",
    "                     )"
   ]
  },
  {
   "cell_type": "code",
   "execution_count": null,
   "id": "lovely-surface",
   "metadata": {},
   "outputs": [],
   "source": [
    "log_reg_pipe.get_params().keys()"
   ]
  },
  {
   "cell_type": "code",
   "execution_count": null,
   "id": "generous-gossip",
   "metadata": {},
   "outputs": [],
   "source": [
    "params_grid = {'model__C':[0.01, 0.03, 0.1, 0.3, 1, 10, 30], 'model__penalty':['l1', 'l2']}"
   ]
  },
  {
   "cell_type": "code",
   "execution_count": null,
   "id": "durable-testament",
   "metadata": {},
   "outputs": [],
   "source": [
    "log_reg_grid = GridSearchCV(log_reg_pipe, params_grid, cv=5, verbose=2, n_jobs=-1)"
   ]
  },
  {
   "cell_type": "code",
   "execution_count": null,
   "id": "essential-telescope",
   "metadata": {},
   "outputs": [],
   "source": [
    "log_reg_grid.fit(X_train, y_train)"
   ]
  },
  {
   "cell_type": "code",
   "execution_count": null,
   "id": "specified-filename",
   "metadata": {},
   "outputs": [],
   "source": [
    "log_reg_best = log_reg_grid.best_estimator_"
   ]
  },
  {
   "cell_type": "code",
   "execution_count": null,
   "id": "promising-fraction",
   "metadata": {},
   "outputs": [],
   "source": [
    "log_reg_grid.best_params_"
   ]
  },
  {
   "cell_type": "code",
   "execution_count": null,
   "id": "sitting-korean",
   "metadata": {
    "scrolled": true
   },
   "outputs": [],
   "source": [
    "log_reg_grid.best_score_"
   ]
  },
  {
   "cell_type": "code",
   "execution_count": null,
   "id": "signed-plenty",
   "metadata": {
    "scrolled": true
   },
   "outputs": [],
   "source": [
    "y_pred_log_reg = log_reg_grid.predict(X_valid)\n",
    "accuracy_score(y_pred, y_valid)"
   ]
  },
  {
   "cell_type": "code",
   "execution_count": null,
   "id": "awful-honey",
   "metadata": {},
   "outputs": [],
   "source": [
    "print(label_encoder.classes_)\n",
    "print(label_encoder.transform(label_encoder.classes_))"
   ]
  },
  {
   "cell_type": "code",
   "execution_count": null,
   "id": "worse-adolescent",
   "metadata": {
    "scrolled": true
   },
   "outputs": [],
   "source": [
    "confusion_matrix(y_pred_log_reg, y_valid)"
   ]
  },
  {
   "cell_type": "markdown",
   "id": "measured-miller",
   "metadata": {},
   "source": [
    "log_reg deals greatly with all walkings "
   ]
  },
  {
   "cell_type": "markdown",
   "id": "separate-gathering",
   "metadata": {},
   "source": [
    "# Random forest classifier"
   ]
  },
  {
   "cell_type": "code",
   "execution_count": null,
   "id": "iraqi-michigan",
   "metadata": {},
   "outputs": [],
   "source": [
    "from sklearn.ensemble import RandomForestClassifier\n",
    "rfc = RandomForestClassifier()\n",
    "rfc_pipe = Pipeline(steps=[('preproc', preproc),\n",
    "                          ('scaler', scaler),\n",
    "                          ('model', rfc)])"
   ]
  },
  {
   "cell_type": "code",
   "execution_count": null,
   "id": "elementary-azerbaijan",
   "metadata": {},
   "outputs": [],
   "source": [
    "rfc_pipe.get_params().keys()"
   ]
  },
  {
   "cell_type": "code",
   "execution_count": null,
   "id": "wanted-dynamics",
   "metadata": {},
   "outputs": [],
   "source": [
    "params_grid = {\"model__n_estimators\":[100,150, 500, 750, 1000],\n",
    "             \"model__max_depth\": [1, 5, 10, 25],\n",
    "             \"model__max_features\": [\"auto\", \"log2\"],\n",
    "             \"model__criterion\":[\"gini\", \"entropy\"]}"
   ]
  },
  {
   "cell_type": "code",
   "execution_count": null,
   "id": "veterinary-probe",
   "metadata": {},
   "outputs": [],
   "source": [
    "rfc_grid = GridSearchCV(rfc_pipe, params_grid, cv=5, verbose=3)"
   ]
  },
  {
   "cell_type": "raw",
   "id": "charged-class",
   "metadata": {
    "scrolled": false
   },
   "source": [
    "rfc_grid.fit(X_train, y_train)"
   ]
  },
  {
   "cell_type": "markdown",
   "id": "greenhouse-reality",
   "metadata": {},
   "source": [
    "# Random forest to distiguish from sitting and standing"
   ]
  },
  {
   "cell_type": "code",
   "execution_count": null,
   "id": "herbal-packaging",
   "metadata": {},
   "outputs": [],
   "source": [
    "y_train_sit = y_train == 1"
   ]
  },
  {
   "cell_type": "code",
   "execution_count": null,
   "id": "technological-outside",
   "metadata": {},
   "outputs": [],
   "source": []
  }
 ],
 "metadata": {
  "kernelspec": {
   "display_name": "Python 3",
   "language": "python",
   "name": "python3"
  },
  "language_info": {
   "codemirror_mode": {
    "name": "ipython",
    "version": 3
   },
   "file_extension": ".py",
   "mimetype": "text/x-python",
   "name": "python",
   "nbconvert_exporter": "python",
   "pygments_lexer": "ipython3",
   "version": "3.8.5"
  }
 },
 "nbformat": 4,
 "nbformat_minor": 5
}
