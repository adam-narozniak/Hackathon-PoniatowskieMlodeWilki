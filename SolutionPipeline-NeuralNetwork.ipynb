{
 "cells": [
  {
   "cell_type": "code",
   "execution_count": 20,
   "id": "pursuant-opera",
   "metadata": {},
   "outputs": [],
   "source": [
    "import pandas as pd\n",
    "import numpy as np\n",
    "import pathlib\n",
    "import matplotlib.pyplot as plt\n",
    "import sklearn\n",
    "from sklearn.pipeline import Pipeline\n",
    "from sklearn.impute import SimpleImputer\n",
    "from sklearn.model_selection import train_test_split\n",
    "from sklearn.compose import ColumnTransformer\n",
    "from sklearn.preprocessing import StandardScaler\n",
    "from sklearn.svm import SVC\n",
    "from sklearn.preprocessing import LabelEncoder\n",
    "from sklearn.model_selection import GridSearchCV\n",
    "from sklearn.metrics import accuracy_score\n",
    "from matplotlib import rcParams\n",
    "%matplotlib inline"
   ]
  },
  {
   "cell_type": "code",
   "execution_count": 2,
   "id": "strategic-throat",
   "metadata": {},
   "outputs": [],
   "source": [
    "cwd = pathlib.Path().cwd()\n",
    "data_path = cwd/\"dataset\"/\"final_train.csv\"\n",
    "pd.set_option(\"display.max_rows\", None, \"display.max_columns\", None)\n",
    "data = pd.read_csv(data_path, index_col=0)"
   ]
  },
  {
   "cell_type": "code",
   "execution_count": 3,
   "id": "collaborative-surgeon",
   "metadata": {},
   "outputs": [],
   "source": [
    "# drop rows\n",
    "data_d = data.dropna()"
   ]
  },
  {
   "cell_type": "code",
   "execution_count": 4,
   "id": "seeing-pierre",
   "metadata": {},
   "outputs": [],
   "source": [
    "def data_to_train_valid(data):\n",
    "    y = data.loc[:, \"Activity\"].copy()\n",
    "    X = data.drop([\"Activity\", \"subject\", \"void()\"], axis=1)\n",
    "    #simple split\n",
    "    X_train, X_valid, y_train, y_valid = train_test_split(X, y, test_size=0.2, random_state=0)\n",
    "    return X_train, X_valid, y_train, y_valid"
   ]
  },
  {
   "cell_type": "code",
   "execution_count": 5,
   "id": "familiar-reservoir",
   "metadata": {},
   "outputs": [],
   "source": [
    "def encode_y(y_train, y_valid):\n",
    "    label_encoder = LabelEncoder()\n",
    "    y_train = label_encoder.fit_transform(y_train)\n",
    "    y_valid = label_encoder.transform(y_valid)\n",
    "    return y_train, y_valid, label_encoder"
   ]
  },
  {
   "cell_type": "markdown",
   "id": "middle-commonwealth",
   "metadata": {},
   "source": [
    "## Split data, encode y labels"
   ]
  },
  {
   "cell_type": "code",
   "execution_count": 6,
   "id": "negative-square",
   "metadata": {},
   "outputs": [],
   "source": [
    "X_train, X_valid, y_train, y_valid = data_to_train_valid(data)"
   ]
  },
  {
   "cell_type": "code",
   "execution_count": 7,
   "id": "prepared-joseph",
   "metadata": {},
   "outputs": [],
   "source": [
    "y_train, y_valid, label_encoder = encode_y(y_train, y_valid)"
   ]
  },
  {
   "cell_type": "code",
   "execution_count": 8,
   "id": "listed-clinton",
   "metadata": {},
   "outputs": [],
   "source": [
    "numerical_columns = list(X_train.columns.values)"
   ]
  },
  {
   "cell_type": "code",
   "execution_count": 15,
   "id": "median-grocery",
   "metadata": {},
   "outputs": [],
   "source": [
    "numerical_transformer = SimpleImputer(strategy='median')\n",
    "scaler = StandardScaler()\n",
    "preproc = ColumnTransformer(\n",
    "    transformers=[\n",
    "        ('num', numerical_transformer, numerical_columns)\n",
    "       \n",
    "    ])"
   ]
  },
  {
   "cell_type": "raw",
   "id": "flexible-audio",
   "metadata": {},
   "source": [
    "svc = SVC()\n",
    "main_pipe = Pipeline(steps=[('preproc', preproc),\n",
    "                            ('scaler', scaler),\n",
    "                            ('model', svc)]\n",
    "                     )"
   ]
  },
  {
   "cell_type": "raw",
   "id": "fallen-aside",
   "metadata": {},
   "source": [
    "# Grid search"
   ]
  },
  {
   "cell_type": "raw",
   "id": "norwegian-candy",
   "metadata": {},
   "source": [
    "params_grid = [{'model__kernel': ['rbf'], 'model__gamma': [1e-3, 1e-4],\n",
    "                     'model__C': [1, 10, 100, 1000]},\n",
    "                    {'model__kernel': ['linear'], 'model__C': [1, 10, 100, 1000]}]"
   ]
  },
  {
   "cell_type": "raw",
   "id": "earned-viking",
   "metadata": {},
   "source": [
    "svc_grid = GridSearchCV(main_pipe, params_grid, cv=5, verbose=2, jobs=-1)"
   ]
  },
  {
   "cell_type": "raw",
   "id": "constitutional-vermont",
   "metadata": {},
   "source": [
    "main_pipe.get_params().keys()"
   ]
  },
  {
   "cell_type": "raw",
   "id": "finite-assembly",
   "metadata": {},
   "source": [
    "svc_grid.fit(X_train, y_train)"
   ]
  },
  {
   "cell_type": "raw",
   "id": "attempted-coverage",
   "metadata": {
    "scrolled": true
   },
   "source": [
    "svc_grid.best_score_"
   ]
  },
  {
   "cell_type": "raw",
   "id": "killing-affect",
   "metadata": {
    "scrolled": true
   },
   "source": [
    "svc_grid.best_params_"
   ]
  },
  {
   "cell_type": "raw",
   "id": "great-neighborhood",
   "metadata": {},
   "source": [
    "best_svc = svc_grid.best_estimator_"
   ]
  },
  {
   "cell_type": "raw",
   "id": "caring-discipline",
   "metadata": {},
   "source": [
    "y_pred_svc = best_svc.predict(X_valid)"
   ]
  },
  {
   "cell_type": "raw",
   "id": "southeast-speaker",
   "metadata": {
    "scrolled": true
   },
   "source": [
    "accuracy_score(y_pred, y_valid)"
   ]
  },
  {
   "cell_type": "markdown",
   "id": "rotary-prize",
   "metadata": {},
   "source": [
    "# Neural Networks"
   ]
  },
  {
   "cell_type": "markdown",
   "id": "facial-puppy",
   "metadata": {},
   "source": [
    "## Deep neural network with dropout layers"
   ]
  },
  {
   "cell_type": "code",
   "execution_count": 11,
   "id": "placed-celtic",
   "metadata": {},
   "outputs": [],
   "source": [
    "from tensorflow.keras.models import Sequential\n",
    "from tensorflow.keras.layers import Dense, Dropout, Activation, Input\n",
    "from tensorflow import keras"
   ]
  },
  {
   "cell_type": "code",
   "execution_count": 16,
   "id": "facial-rings",
   "metadata": {},
   "outputs": [],
   "source": [
    "X_train = preproc.fit_transform(X_train)\n",
    "X_valid = preproc.transform(X_valid)"
   ]
  },
  {
   "cell_type": "code",
   "execution_count": 17,
   "id": "modified-selection",
   "metadata": {},
   "outputs": [],
   "source": [
    "X_train = scaler.fit_transform(X_train)\n",
    "X_valid = scaler.transform(X_valid)"
   ]
  },
  {
   "cell_type": "code",
   "execution_count": 40,
   "id": "creative-disability",
   "metadata": {},
   "outputs": [],
   "source": [
    "model_params = {\"neurons\":[64, 32], \"dropout\":[0.5, 0.3]}\n",
    "model_params = {\"neurons\":[128, 64], \"dropout\":[0.5, 0.5]}"
   ]
  },
  {
   "cell_type": "code",
   "execution_count": 41,
   "id": "proved-truck",
   "metadata": {},
   "outputs": [],
   "source": [
    "model = Sequential()\n",
    "model.add(Input(shape=(X_train.shape[1])))\n",
    "model.add(Dense(model_params[\"neurons\"][0], activation='elu', kernel_initializer=\"he_normal\"))\n",
    "model.add(Dropout(model_params[\"dropout\"][0]))\n",
    "model.add(Dense(model_params[\"neurons\"][1], activation='elu', kernel_initializer=\"he_normal\"))\n",
    "model.add(Dropout(model_params[\"dropout\"][1]))\n",
    "model.add(Dense(6, activation='softmax'))"
   ]
  },
  {
   "cell_type": "code",
   "execution_count": 42,
   "id": "falling-yesterday",
   "metadata": {},
   "outputs": [],
   "source": [
    "optimizer = keras.optimizers.Nadam(lr=0.001, beta_1=0.9, beta_2=0.999)\n",
    "model.compile(loss=\"sparse_categorical_crossentropy\", optimizer=optimizer, metrics=[\"accuracy\"])"
   ]
  },
  {
   "cell_type": "code",
   "execution_count": 43,
   "id": "geographic-writing",
   "metadata": {},
   "outputs": [
    {
     "name": "stdout",
     "output_type": "stream",
     "text": [
      "Epoch 1/60\n",
      "278/278 [==============================] - 1s 3ms/step - loss: 1.1904 - accuracy: 0.6675 - val_loss: 0.1887 - val_accuracy: 0.9206\n",
      "Epoch 2/60\n",
      "278/278 [==============================] - 1s 2ms/step - loss: 0.2626 - accuracy: 0.9062 - val_loss: 0.0962 - val_accuracy: 0.9621\n",
      "Epoch 3/60\n",
      "278/278 [==============================] - 1s 2ms/step - loss: 0.1827 - accuracy: 0.9376 - val_loss: 0.0831 - val_accuracy: 0.9680\n",
      "Epoch 4/60\n",
      "278/278 [==============================] - 1s 2ms/step - loss: 0.1349 - accuracy: 0.9506 - val_loss: 0.0752 - val_accuracy: 0.9711\n",
      "Epoch 5/60\n",
      "278/278 [==============================] - 1s 2ms/step - loss: 0.1098 - accuracy: 0.9575 - val_loss: 0.0748 - val_accuracy: 0.9702\n",
      "Epoch 6/60\n",
      "278/278 [==============================] - 1s 2ms/step - loss: 0.1092 - accuracy: 0.9600 - val_loss: 0.1108 - val_accuracy: 0.9522\n",
      "Epoch 7/60\n",
      "278/278 [==============================] - 1s 2ms/step - loss: 0.1092 - accuracy: 0.9592 - val_loss: 0.0713 - val_accuracy: 0.9752\n",
      "Epoch 8/60\n",
      "278/278 [==============================] - 1s 2ms/step - loss: 0.0886 - accuracy: 0.9673 - val_loss: 0.0653 - val_accuracy: 0.9788\n",
      "Epoch 9/60\n",
      "278/278 [==============================] - 1s 2ms/step - loss: 0.0710 - accuracy: 0.9742 - val_loss: 0.0611 - val_accuracy: 0.9797\n",
      "Epoch 10/60\n",
      "278/278 [==============================] - 1s 2ms/step - loss: 0.0832 - accuracy: 0.9734 - val_loss: 0.0642 - val_accuracy: 0.9761\n",
      "Epoch 11/60\n",
      "278/278 [==============================] - 1s 2ms/step - loss: 0.0750 - accuracy: 0.9718 - val_loss: 0.0622 - val_accuracy: 0.9788\n",
      "Epoch 12/60\n",
      "278/278 [==============================] - 1s 2ms/step - loss: 0.0652 - accuracy: 0.9744 - val_loss: 0.0596 - val_accuracy: 0.9779\n",
      "Epoch 13/60\n",
      "278/278 [==============================] - 1s 2ms/step - loss: 0.0947 - accuracy: 0.9686 - val_loss: 0.0735 - val_accuracy: 0.9739\n",
      "Epoch 14/60\n",
      "278/278 [==============================] - 1s 2ms/step - loss: 0.0757 - accuracy: 0.9739 - val_loss: 0.0594 - val_accuracy: 0.9797\n",
      "Epoch 15/60\n",
      "278/278 [==============================] - 1s 2ms/step - loss: 0.0712 - accuracy: 0.9757 - val_loss: 0.0592 - val_accuracy: 0.9815\n",
      "Epoch 16/60\n",
      "278/278 [==============================] - 1s 2ms/step - loss: 0.0574 - accuracy: 0.9779 - val_loss: 0.0537 - val_accuracy: 0.9824\n",
      "Epoch 17/60\n",
      "278/278 [==============================] - 1s 2ms/step - loss: 0.0502 - accuracy: 0.9810 - val_loss: 0.0908 - val_accuracy: 0.9648\n",
      "Epoch 18/60\n",
      "278/278 [==============================] - 1s 2ms/step - loss: 0.0759 - accuracy: 0.9708 - val_loss: 0.0532 - val_accuracy: 0.9797\n",
      "Epoch 19/60\n",
      "278/278 [==============================] - 1s 2ms/step - loss: 0.0595 - accuracy: 0.9796 - val_loss: 0.0556 - val_accuracy: 0.9842\n",
      "Epoch 20/60\n",
      "278/278 [==============================] - 1s 2ms/step - loss: 0.0557 - accuracy: 0.9810 - val_loss: 0.0516 - val_accuracy: 0.9820\n",
      "Epoch 21/60\n",
      "278/278 [==============================] - 1s 2ms/step - loss: 0.0546 - accuracy: 0.9806 - val_loss: 0.0619 - val_accuracy: 0.9811\n",
      "Epoch 22/60\n",
      "278/278 [==============================] - 1s 2ms/step - loss: 0.0472 - accuracy: 0.9822 - val_loss: 0.0580 - val_accuracy: 0.9797\n",
      "Epoch 23/60\n",
      "278/278 [==============================] - 1s 2ms/step - loss: 0.0494 - accuracy: 0.9838 - val_loss: 0.0564 - val_accuracy: 0.9784\n",
      "Epoch 24/60\n",
      "278/278 [==============================] - 1s 2ms/step - loss: 0.0682 - accuracy: 0.9787 - val_loss: 0.0774 - val_accuracy: 0.9729\n",
      "Epoch 25/60\n",
      "278/278 [==============================] - 1s 2ms/step - loss: 0.0510 - accuracy: 0.9806 - val_loss: 0.0621 - val_accuracy: 0.9811\n",
      "Epoch 26/60\n",
      "278/278 [==============================] - 1s 2ms/step - loss: 0.0420 - accuracy: 0.9842 - val_loss: 0.0628 - val_accuracy: 0.9797\n",
      "Epoch 27/60\n",
      "278/278 [==============================] - 1s 2ms/step - loss: 0.0489 - accuracy: 0.9823 - val_loss: 0.0627 - val_accuracy: 0.9806\n",
      "Epoch 28/60\n",
      "278/278 [==============================] - 1s 2ms/step - loss: 0.0452 - accuracy: 0.9853 - val_loss: 0.0575 - val_accuracy: 0.9824\n",
      "Epoch 29/60\n",
      "278/278 [==============================] - 1s 2ms/step - loss: 0.0419 - accuracy: 0.9843 - val_loss: 0.0597 - val_accuracy: 0.9806\n",
      "Epoch 30/60\n",
      "278/278 [==============================] - 1s 2ms/step - loss: 0.0431 - accuracy: 0.9859 - val_loss: 0.0706 - val_accuracy: 0.9752\n",
      "Epoch 31/60\n",
      "278/278 [==============================] - 1s 2ms/step - loss: 0.0440 - accuracy: 0.9874 - val_loss: 0.0462 - val_accuracy: 0.9842\n",
      "Epoch 32/60\n",
      "278/278 [==============================] - 1s 2ms/step - loss: 0.0409 - accuracy: 0.9855 - val_loss: 0.0573 - val_accuracy: 0.9820\n",
      "Epoch 33/60\n",
      "278/278 [==============================] - 1s 2ms/step - loss: 0.0369 - accuracy: 0.9880 - val_loss: 0.0634 - val_accuracy: 0.9802\n",
      "Epoch 34/60\n",
      "278/278 [==============================] - 1s 2ms/step - loss: 0.0458 - accuracy: 0.9817 - val_loss: 0.0475 - val_accuracy: 0.9833\n",
      "Epoch 35/60\n",
      "278/278 [==============================] - 1s 2ms/step - loss: 0.0396 - accuracy: 0.9867 - val_loss: 0.0495 - val_accuracy: 0.9842\n",
      "Epoch 36/60\n",
      "278/278 [==============================] - 1s 2ms/step - loss: 0.0377 - accuracy: 0.9866 - val_loss: 0.0492 - val_accuracy: 0.9847\n",
      "Epoch 37/60\n",
      "278/278 [==============================] - 1s 2ms/step - loss: 0.0393 - accuracy: 0.9874 - val_loss: 0.0479 - val_accuracy: 0.9856\n",
      "Epoch 38/60\n",
      "278/278 [==============================] - 1s 2ms/step - loss: 0.0313 - accuracy: 0.9887 - val_loss: 0.0588 - val_accuracy: 0.9833\n",
      "Epoch 39/60\n",
      "278/278 [==============================] - 1s 2ms/step - loss: 0.0396 - accuracy: 0.9880 - val_loss: 0.0541 - val_accuracy: 0.9829\n",
      "Epoch 40/60\n",
      "278/278 [==============================] - 1s 2ms/step - loss: 0.0376 - accuracy: 0.9872 - val_loss: 0.0481 - val_accuracy: 0.9851\n",
      "Epoch 41/60\n",
      "278/278 [==============================] - 1s 2ms/step - loss: 0.0278 - accuracy: 0.9901 - val_loss: 0.0615 - val_accuracy: 0.9815\n",
      "Epoch 42/60\n",
      "278/278 [==============================] - 1s 2ms/step - loss: 0.0256 - accuracy: 0.9895 - val_loss: 0.0514 - val_accuracy: 0.9838\n",
      "Epoch 43/60\n",
      "278/278 [==============================] - 1s 2ms/step - loss: 0.0509 - accuracy: 0.9851 - val_loss: 0.0595 - val_accuracy: 0.9847\n",
      "Epoch 44/60\n",
      "278/278 [==============================] - 1s 2ms/step - loss: 0.0517 - accuracy: 0.9844 - val_loss: 0.0530 - val_accuracy: 0.9815\n",
      "Epoch 45/60\n",
      "278/278 [==============================] - 1s 2ms/step - loss: 0.0330 - accuracy: 0.9880 - val_loss: 0.0660 - val_accuracy: 0.9829\n",
      "Epoch 46/60\n",
      "278/278 [==============================] - 1s 2ms/step - loss: 0.0277 - accuracy: 0.9897 - val_loss: 0.0515 - val_accuracy: 0.9838\n",
      "Epoch 47/60\n",
      "278/278 [==============================] - 1s 2ms/step - loss: 0.0306 - accuracy: 0.9903 - val_loss: 0.0730 - val_accuracy: 0.9860\n",
      "Epoch 48/60\n",
      "278/278 [==============================] - 1s 2ms/step - loss: 0.0225 - accuracy: 0.9910 - val_loss: 0.0505 - val_accuracy: 0.9833\n",
      "Epoch 49/60\n",
      "278/278 [==============================] - 1s 2ms/step - loss: 0.0260 - accuracy: 0.9904 - val_loss: 0.0580 - val_accuracy: 0.9811\n",
      "Epoch 50/60\n",
      "278/278 [==============================] - 1s 2ms/step - loss: 0.0317 - accuracy: 0.9890 - val_loss: 0.0545 - val_accuracy: 0.9856\n",
      "Epoch 51/60\n",
      "278/278 [==============================] - 1s 2ms/step - loss: 0.0329 - accuracy: 0.9901 - val_loss: 0.0616 - val_accuracy: 0.9824\n",
      "Epoch 52/60\n",
      "278/278 [==============================] - 1s 2ms/step - loss: 0.0335 - accuracy: 0.9897 - val_loss: 0.0620 - val_accuracy: 0.9865\n",
      "Epoch 53/60\n",
      "278/278 [==============================] - 1s 2ms/step - loss: 0.0201 - accuracy: 0.9917 - val_loss: 0.0699 - val_accuracy: 0.9824\n",
      "Epoch 54/60\n",
      "278/278 [==============================] - 1s 2ms/step - loss: 0.0294 - accuracy: 0.9908 - val_loss: 0.0629 - val_accuracy: 0.9838\n",
      "Epoch 55/60\n",
      "278/278 [==============================] - 1s 2ms/step - loss: 0.0329 - accuracy: 0.9897 - val_loss: 0.0581 - val_accuracy: 0.9811\n",
      "Epoch 56/60\n",
      "278/278 [==============================] - 1s 2ms/step - loss: 0.0233 - accuracy: 0.9912 - val_loss: 0.0643 - val_accuracy: 0.9811\n",
      "Epoch 57/60\n",
      "278/278 [==============================] - 1s 2ms/step - loss: 0.0339 - accuracy: 0.9882 - val_loss: 0.0703 - val_accuracy: 0.9824\n",
      "Epoch 58/60\n"
     ]
    },
    {
     "name": "stdout",
     "output_type": "stream",
     "text": [
      "278/278 [==============================] - 1s 2ms/step - loss: 0.0249 - accuracy: 0.9914 - val_loss: 0.0683 - val_accuracy: 0.9847\n",
      "Epoch 59/60\n",
      "278/278 [==============================] - 1s 2ms/step - loss: 0.0234 - accuracy: 0.9914 - val_loss: 0.0716 - val_accuracy: 0.9811\n",
      "Epoch 60/60\n",
      "278/278 [==============================] - 1s 2ms/step - loss: 0.0298 - accuracy: 0.9897 - val_loss: 0.0558 - val_accuracy: 0.9860\n"
     ]
    }
   ],
   "source": [
    "history = model.fit(X_train, y_train, epochs=60, validation_data=(X_valid, y_valid))"
   ]
  },
  {
   "cell_type": "code",
   "execution_count": 44,
   "id": "confident-saver",
   "metadata": {},
   "outputs": [
    {
     "data": {
      "image/png": "[encoded data removed]",
      "text/plain": [
       "<Figure size 720x288 with 1 Axes>"
      ]
     },
     "metadata": {
      "needs_background": "light"
     },
     "output_type": "display_data"
    },
    {
     "data": {
      "image/png": "[encoded data removed]",
      "text/plain": [
       "<Figure size 720x288 with 1 Axes>"
      ]
     },
     "metadata": {
      "needs_background": "light"
     },
     "output_type": "display_data"
    }
   ],
   "source": [
    "rcParams['figure.figsize'] = 10, 4\n",
    "plt.plot(history.history['accuracy'])\n",
    "plt.plot(history.history['val_accuracy'])\n",
    "plt.title('model accuracy')\n",
    "plt.ylabel('accuracy')\n",
    "plt.xlabel('epoch')\n",
    "plt.legend(['train', 'test'], loc='upper left')\n",
    "plt.show()\n",
    "# summarize history for loss\n",
    "plt.plot(history.history['loss'])\n",
    "plt.plot(history.history['val_loss'])\n",
    "plt.title('model loss')\n",
    "plt.ylabel('loss')\n",
    "plt.xlabel('epoch')\n",
    "plt.legend(['train', 'test'], loc='upper left')\n",
    "plt.show()"
   ]
  },
  {
   "cell_type": "code",
   "execution_count": null,
   "id": "vital-duplicate",
   "metadata": {},
   "outputs": [],
   "source": []
  }
 ],
 "metadata": {
  "kernelspec": {
   "display_name": "Python 3",
   "language": "python",
   "name": "python3"
  },
  "language_info": {
   "codemirror_mode": {
    "name": "ipython",
    "version": 3
   },
   "file_extension": ".py",
   "mimetype": "text/x-python",
   "name": "python",
   "nbconvert_exporter": "python",
   "pygments_lexer": "ipython3",
   "version": "3.8.5"
  }
 },
 "nbformat": 4,
 "nbformat_minor": 5
}
