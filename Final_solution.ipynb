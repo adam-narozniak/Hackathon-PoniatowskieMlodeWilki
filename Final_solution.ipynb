{
 "cells": [
  {
   "cell_type": "code",
   "execution_count": 156,
   "id": "verified-reaction",
   "metadata": {},
   "outputs": [],
   "source": [
    "import pandas as pd\n",
    "import numpy as np\n",
    "import pathlib\n",
    "import matplotlib.pyplot as plt\n",
    "import sklearn\n",
    "from sklearn.pipeline import Pipeline\n",
    "from sklearn.impute import SimpleImputer\n",
    "from sklearn.model_selection import train_test_split\n",
    "from sklearn.compose import ColumnTransformer\n",
    "from sklearn.preprocessing import StandardScaler\n",
    "from sklearn.svm import SVC\n",
    "from sklearn.preprocessing import LabelEncoder\n",
    "from sklearn.model_selection import GridSearchCV\n",
    "from sklearn.metrics import accuracy_score\n",
    "from sklearn.metrics import confusion_matrix\n",
    "from matplotlib import rcParams\n",
    "%matplotlib inline"
   ]
  },
  {
   "cell_type": "code",
   "execution_count": 157,
   "id": "progressive-allah",
   "metadata": {},
   "outputs": [],
   "source": [
    "cwd = pathlib.Path().cwd()\n",
    "data_path = cwd/\"dataset\"/\"final_train.csv\"\n",
    "pd.set_option(\"display.max_rows\", None, \"display.max_columns\", None)\n",
    "data = pd.read_csv(data_path, index_col=0)"
   ]
  },
  {
   "cell_type": "code",
   "execution_count": 158,
   "id": "smooth-stuart",
   "metadata": {},
   "outputs": [],
   "source": [
    "data.shape[0] - (data.isna().sum(axis=1)<20).sum()\n",
    "data = data[data.isna().sum(axis=1)<20]"
   ]
  },
  {
   "cell_type": "code",
   "execution_count": 159,
   "id": "medium-joseph",
   "metadata": {},
   "outputs": [],
   "source": [
    "def data_to_train_valid(data):\n",
    "    y = data.loc[:, \"Activity\"].copy()\n",
    "    X = data.drop([\"Activity\"], axis=1)\n",
    "    #simple split\n",
    "    X_train, X_valid, y_train, y_valid = train_test_split(X, y, test_size=0.2, random_state=0)\n",
    "    return X_train, X_valid, y_train, y_valid"
   ]
  },
  {
   "cell_type": "code",
   "execution_count": 160,
   "id": "invisible-network",
   "metadata": {},
   "outputs": [],
   "source": [
    "def encode_y(y_train, y_valid):\n",
    "    label_encoder = LabelEncoder()\n",
    "    y_train = label_encoder.fit_transform(y_train)\n",
    "    y_valid = label_encoder.transform(y_valid)\n",
    "    return y_train, y_valid, label_encoder"
   ]
  },
  {
   "cell_type": "code",
   "execution_count": 161,
   "id": "optimum-sport",
   "metadata": {},
   "outputs": [],
   "source": [
    "## Split data, encode y labels\n",
    "\n",
    "X_train, X_valid, y_train, y_valid = data_to_train_valid(data)"
   ]
  },
  {
   "cell_type": "code",
   "execution_count": 162,
   "id": "active-seventh",
   "metadata": {},
   "outputs": [],
   "source": [
    "y_train, y_valid, label_encoder = encode_y(y_train, y_valid)"
   ]
  },
  {
   "cell_type": "code",
   "execution_count": 163,
   "id": "healthy-christian",
   "metadata": {},
   "outputs": [],
   "source": [
    "numerical_columns = list(X_train.columns.values)\n",
    "\n",
    "numerical_transformer = SimpleImputer(strategy='median')\n",
    "scaler = StandardScaler()\n",
    "preproc = ColumnTransformer(\n",
    "    transformers=[\n",
    "        ('num', numerical_transformer, numerical_columns)\n",
    "       \n",
    "    ])"
   ]
  },
  {
   "cell_type": "markdown",
   "id": "looking-chocolate",
   "metadata": {},
   "source": [
    "# SVC"
   ]
  },
  {
   "cell_type": "code",
   "execution_count": 164,
   "id": "conventional-heaven",
   "metadata": {},
   "outputs": [],
   "source": [
    "svc = SVC()\n",
    "svc_pipe = Pipeline(steps=[('preproc', preproc),\n",
    "                            ('scaler', scaler),\n",
    "                            ('model', svc)]\n",
    "                     )"
   ]
  },
  {
   "cell_type": "markdown",
   "id": "blessed-norman",
   "metadata": {},
   "source": [
    "# Grid search"
   ]
  },
  {
   "cell_type": "code",
   "execution_count": 165,
   "id": "inclusive-establishment",
   "metadata": {},
   "outputs": [],
   "source": [
    "params_grid = [{'model__kernel': ['rbf'], 'model__gamma': [1e-3, 1e-4],\n",
    "                     'model__C': [1, 10, 100, 1000]},\n",
    "                    {'model__kernel': ['linear'], 'model__C': [1, 10, 100, 1000]}]"
   ]
  },
  {
   "cell_type": "code",
   "execution_count": 166,
   "id": "mobile-headquarters",
   "metadata": {},
   "outputs": [],
   "source": [
    "svc_grid = GridSearchCV(svc_pipe, params_grid, cv=5, verbose=2, n_jobs=-1)"
   ]
  },
  {
   "cell_type": "code",
   "execution_count": 167,
   "id": "rubber-element",
   "metadata": {},
   "outputs": [
    {
     "data": {
      "text/plain": [
       "dict_keys(['memory', 'steps', 'verbose', 'preproc', 'scaler', 'model', 'preproc__n_jobs', 'preproc__remainder', 'preproc__sparse_threshold', 'preproc__transformer_weights', 'preproc__transformers', 'preproc__verbose', 'preproc__num', 'preproc__num__add_indicator', 'preproc__num__copy', 'preproc__num__fill_value', 'preproc__num__missing_values', 'preproc__num__strategy', 'preproc__num__verbose', 'scaler__copy', 'scaler__with_mean', 'scaler__with_std', 'model__C', 'model__break_ties', 'model__cache_size', 'model__class_weight', 'model__coef0', 'model__decision_function_shape', 'model__degree', 'model__gamma', 'model__kernel', 'model__max_iter', 'model__probability', 'model__random_state', 'model__shrinking', 'model__tol', 'model__verbose'])"
      ]
     },
     "execution_count": 167,
     "metadata": {},
     "output_type": "execute_result"
    }
   ],
   "source": [
    "svc_pipe.get_params().keys()"
   ]
  },
  {
   "cell_type": "code",
   "execution_count": 168,
   "id": "modified-hospital",
   "metadata": {},
   "outputs": [
    {
     "name": "stdout",
     "output_type": "stream",
     "text": [
      "Fitting 5 folds for each of 12 candidates, totalling 60 fits\n"
     ]
    },
    {
     "data": {
      "text/plain": [
       "GridSearchCV(cv=5,\n",
       "             estimator=Pipeline(steps=[('preproc',\n",
       "                                        ColumnTransformer(transformers=[('num',\n",
       "                                                                         SimpleImputer(strategy='median'),\n",
       "                                                                         ['angle(X,gravityMean)',\n",
       "                                                                          'angle(Y,gravityMean)',\n",
       "                                                                          'angle(Z,gravityMean)',\n",
       "                                                                          'angle(tBodyAccJerkMean),gravityMean)',\n",
       "                                                                          'angle(tBodyAccMean,gravity)',\n",
       "                                                                          'angle(tBodyGyroJerkMean,gravityMean)',\n",
       "                                                                          'angle(tBodyGyroMean,gravityMean)',\n",
       "                                                                          'energy-me...\n",
       "                                                                          'fBodyAcc-bandsEnergy()-25,48',\n",
       "                                                                          'fBodyAcc-bandsEnergy()-25,48.1',\n",
       "                                                                          'fBodyAcc-bandsEnergy()-25,48.2',\n",
       "                                                                          'fBodyAcc-bandsEnergy()-33,40', ...])])),\n",
       "                                       ('scaler', StandardScaler()),\n",
       "                                       ('model', SVC())]),\n",
       "             n_jobs=-1,\n",
       "             param_grid=[{'model__C': [1, 10, 100, 1000],\n",
       "                          'model__gamma': [0.001, 0.0001],\n",
       "                          'model__kernel': ['rbf']},\n",
       "                         {'model__C': [1, 10, 100, 1000],\n",
       "                          'model__kernel': ['linear']}],\n",
       "             verbose=2)"
      ]
     },
     "execution_count": 168,
     "metadata": {},
     "output_type": "execute_result"
    }
   ],
   "source": [
    "svc_grid.fit(X_train, y_train)"
   ]
  },
  {
   "cell_type": "code",
   "execution_count": 169,
   "id": "bibliographic-nepal",
   "metadata": {
    "scrolled": true
   },
   "outputs": [
    {
     "data": {
      "text/plain": [
       "0.9883967590137412"
      ]
     },
     "execution_count": 169,
     "metadata": {},
     "output_type": "execute_result"
    }
   ],
   "source": [
    "svc_grid.best_score_"
   ]
  },
  {
   "cell_type": "code",
   "execution_count": 170,
   "id": "identified-swimming",
   "metadata": {
    "scrolled": true
   },
   "outputs": [
    {
     "data": {
      "text/plain": [
       "{'model__C': 100, 'model__gamma': 0.001, 'model__kernel': 'rbf'}"
      ]
     },
     "execution_count": 170,
     "metadata": {},
     "output_type": "execute_result"
    }
   ],
   "source": [
    "svc_grid.best_params_"
   ]
  },
  {
   "cell_type": "code",
   "execution_count": 171,
   "id": "adjusted-party",
   "metadata": {},
   "outputs": [],
   "source": [
    "best_svc = svc_grid.best_estimator_"
   ]
  },
  {
   "cell_type": "code",
   "execution_count": 172,
   "id": "ordinary-telephone",
   "metadata": {},
   "outputs": [],
   "source": [
    "y_pred_svc = best_svc.predict(X_valid)"
   ]
  },
  {
   "cell_type": "code",
   "execution_count": 173,
   "id": "dental-alarm",
   "metadata": {
    "scrolled": true
   },
   "outputs": [
    {
     "data": {
      "text/plain": [
       "0.9907181240840254"
      ]
     },
     "execution_count": 173,
     "metadata": {},
     "output_type": "execute_result"
    }
   ],
   "source": [
    "accuracy_score(y_pred_svc, y_valid)"
   ]
  },
  {
   "cell_type": "code",
   "execution_count": 174,
   "id": "another-orbit",
   "metadata": {},
   "outputs": [
    {
     "name": "stdout",
     "output_type": "stream",
     "text": [
      "['LAYING' 'SITTING' 'STANDING' 'WALKING' 'WALKING_DOWNSTAIRS'\n",
      " 'WALKING_UPSTAIRS']\n",
      "[0 1 2 3 4 5]\n"
     ]
    }
   ],
   "source": [
    "print(label_encoder.classes_)\n",
    "print(label_encoder.transform(label_encoder.classes_))"
   ]
  },
  {
   "cell_type": "markdown",
   "id": "skilled-boating",
   "metadata": {},
   "source": [
    "rows reality, columns predictions, for example (indexing from 0)row=1, col=2 : 21 is how many times sitting was predicted as standing"
   ]
  },
  {
   "cell_type": "code",
   "execution_count": 175,
   "id": "about-seeker",
   "metadata": {
    "scrolled": true
   },
   "outputs": [
    {
     "data": {
      "text/plain": [
       "array([[399,   1,   0,   0,   0,   0],\n",
       "       [  0, 399,   8,   0,   0,   0],\n",
       "       [  0,   9, 360,   0,   0,   0],\n",
       "       [  0,   0,   0, 317,   0,   1],\n",
       "       [  0,   0,   0,   0, 244,   0],\n",
       "       [  0,   0,   0,   0,   0, 309]])"
      ]
     },
     "execution_count": 175,
     "metadata": {},
     "output_type": "execute_result"
    }
   ],
   "source": [
    "confusion_matrix(y_pred_svc, y_valid)"
   ]
  },
  {
   "cell_type": "markdown",
   "id": "metric-consideration",
   "metadata": {},
   "source": [
    "svc deals greatly with all walkings "
   ]
  },
  {
   "cell_type": "markdown",
   "id": "small-amsterdam",
   "metadata": {},
   "source": [
    "# Logistic Regression"
   ]
  },
  {
   "cell_type": "code",
   "execution_count": 176,
   "id": "minute-chance",
   "metadata": {},
   "outputs": [],
   "source": [
    "from sklearn.linear_model import LogisticRegression\n",
    "log_reg = LogisticRegression()\n",
    "log_reg_pipe = Pipeline(steps=[('preproc', preproc),\n",
    "                            ('scaler', scaler),\n",
    "                            ('model', log_reg)]\n",
    "                     )"
   ]
  },
  {
   "cell_type": "code",
   "execution_count": 177,
   "id": "lovely-surface",
   "metadata": {},
   "outputs": [
    {
     "data": {
      "text/plain": [
       "dict_keys(['memory', 'steps', 'verbose', 'preproc', 'scaler', 'model', 'preproc__n_jobs', 'preproc__remainder', 'preproc__sparse_threshold', 'preproc__transformer_weights', 'preproc__transformers', 'preproc__verbose', 'preproc__num', 'preproc__num__add_indicator', 'preproc__num__copy', 'preproc__num__fill_value', 'preproc__num__missing_values', 'preproc__num__strategy', 'preproc__num__verbose', 'scaler__copy', 'scaler__with_mean', 'scaler__with_std', 'model__C', 'model__class_weight', 'model__dual', 'model__fit_intercept', 'model__intercept_scaling', 'model__l1_ratio', 'model__max_iter', 'model__multi_class', 'model__n_jobs', 'model__penalty', 'model__random_state', 'model__solver', 'model__tol', 'model__verbose', 'model__warm_start'])"
      ]
     },
     "execution_count": 177,
     "metadata": {},
     "output_type": "execute_result"
    }
   ],
   "source": [
    "log_reg_pipe.get_params().keys()"
   ]
  },
  {
   "cell_type": "code",
   "execution_count": 178,
   "id": "generous-gossip",
   "metadata": {},
   "outputs": [],
   "source": [
    "params_grid = {'model__C':[0.01, 0.03, 0.1, 0.3, 1, 10, 30], 'model__penalty':['l1', 'l2']}"
   ]
  },
  {
   "cell_type": "code",
   "execution_count": 179,
   "id": "durable-testament",
   "metadata": {},
   "outputs": [],
   "source": [
    "log_reg_grid = GridSearchCV(log_reg_pipe, params_grid, cv=5, verbose=2, n_jobs=-1)"
   ]
  },
  {
   "cell_type": "code",
   "execution_count": 180,
   "id": "essential-telescope",
   "metadata": {},
   "outputs": [
    {
     "name": "stdout",
     "output_type": "stream",
     "text": [
      "Fitting 5 folds for each of 14 candidates, totalling 70 fits\n"
     ]
    },
    {
     "name": "stderr",
     "output_type": "stream",
     "text": [
      "/home/adam/Documents/ML/my_env/lib/python3.8/site-packages/sklearn/model_selection/_search.py:918: UserWarning: One or more of the test scores are non-finite: [       nan 0.97618175        nan 0.97972414        nan 0.98326669\n",
      "        nan 0.98314474        nan 0.98399951        nan 0.98228892\n",
      "        nan 0.98094567]\n",
      "  warnings.warn(\n",
      "/home/adam/Documents/ML/my_env/lib/python3.8/site-packages/sklearn/linear_model/_logistic.py:763: ConvergenceWarning: lbfgs failed to converge (status=1):\n",
      "STOP: TOTAL NO. of ITERATIONS REACHED LIMIT.\n",
      "\n",
      "Increase the number of iterations (max_iter) or scale the data as shown in:\n",
      "    https://scikit-learn.org/stable/modules/preprocessing.html\n",
      "Please also refer to the documentation for alternative solver options:\n",
      "    https://scikit-learn.org/stable/modules/linear_model.html#logistic-regression\n",
      "  n_iter_i = _check_optimize_result(\n"
     ]
    },
    {
     "data": {
      "text/plain": [
       "GridSearchCV(cv=5,\n",
       "             estimator=Pipeline(steps=[('preproc',\n",
       "                                        ColumnTransformer(transformers=[('num',\n",
       "                                                                         SimpleImputer(strategy='median'),\n",
       "                                                                         ['angle(X,gravityMean)',\n",
       "                                                                          'angle(Y,gravityMean)',\n",
       "                                                                          'angle(Z,gravityMean)',\n",
       "                                                                          'angle(tBodyAccJerkMean),gravityMean)',\n",
       "                                                                          'angle(tBodyAccMean,gravity)',\n",
       "                                                                          'angle(tBodyGyroJerkMean,gravityMean)',\n",
       "                                                                          'angle(tBodyGyroMean,gravityMean)',\n",
       "                                                                          'energy-me...\n",
       "                                                                          'fBodyAcc-bandsEnergy()-25,32.1',\n",
       "                                                                          'fBodyAcc-bandsEnergy()-25,32.2',\n",
       "                                                                          'fBodyAcc-bandsEnergy()-25,48',\n",
       "                                                                          'fBodyAcc-bandsEnergy()-25,48.1',\n",
       "                                                                          'fBodyAcc-bandsEnergy()-25,48.2',\n",
       "                                                                          'fBodyAcc-bandsEnergy()-33,40', ...])])),\n",
       "                                       ('scaler', StandardScaler()),\n",
       "                                       ('model', LogisticRegression())]),\n",
       "             n_jobs=-1,\n",
       "             param_grid={'model__C': [0.01, 0.03, 0.1, 0.3, 1, 10, 30],\n",
       "                         'model__penalty': ['l1', 'l2']},\n",
       "             verbose=2)"
      ]
     },
     "execution_count": 180,
     "metadata": {},
     "output_type": "execute_result"
    }
   ],
   "source": [
    "log_reg_grid.fit(X_train, y_train)"
   ]
  },
  {
   "cell_type": "code",
   "execution_count": 181,
   "id": "specified-filename",
   "metadata": {},
   "outputs": [],
   "source": [
    "log_reg_best = log_reg_grid.best_estimator_"
   ]
  },
  {
   "cell_type": "code",
   "execution_count": 182,
   "id": "promising-fraction",
   "metadata": {},
   "outputs": [
    {
     "data": {
      "text/plain": [
       "{'model__C': 1, 'model__penalty': 'l2'}"
      ]
     },
     "execution_count": 182,
     "metadata": {},
     "output_type": "execute_result"
    }
   ],
   "source": [
    "log_reg_grid.best_params_"
   ]
  },
  {
   "cell_type": "code",
   "execution_count": 183,
   "id": "sitting-korean",
   "metadata": {
    "scrolled": true
   },
   "outputs": [
    {
     "data": {
      "text/plain": [
       "0.9839995136879682"
      ]
     },
     "execution_count": 183,
     "metadata": {},
     "output_type": "execute_result"
    }
   ],
   "source": [
    "log_reg_grid.best_score_"
   ]
  },
  {
   "cell_type": "code",
   "execution_count": 184,
   "id": "signed-plenty",
   "metadata": {
    "scrolled": true
   },
   "outputs": [
    {
     "data": {
      "text/plain": [
       "0.9853444064484611"
      ]
     },
     "execution_count": 184,
     "metadata": {},
     "output_type": "execute_result"
    }
   ],
   "source": [
    "y_pred_log_reg = log_reg_grid.predict(X_valid)\n",
    "accuracy_score(y_pred_log_reg, y_valid)"
   ]
  },
  {
   "cell_type": "code",
   "execution_count": 185,
   "id": "awful-honey",
   "metadata": {},
   "outputs": [
    {
     "name": "stdout",
     "output_type": "stream",
     "text": [
      "['LAYING' 'SITTING' 'STANDING' 'WALKING' 'WALKING_DOWNSTAIRS'\n",
      " 'WALKING_UPSTAIRS']\n",
      "[0 1 2 3 4 5]\n"
     ]
    }
   ],
   "source": [
    "print(label_encoder.classes_)\n",
    "print(label_encoder.transform(label_encoder.classes_))"
   ]
  },
  {
   "cell_type": "code",
   "execution_count": 186,
   "id": "worse-adolescent",
   "metadata": {
    "scrolled": true
   },
   "outputs": [
    {
     "data": {
      "text/plain": [
       "array([[399,   3,   0,   0,   0,   0],\n",
       "       [  0, 394,  12,   0,   0,   0],\n",
       "       [  0,  11, 356,   0,   0,   0],\n",
       "       [  0,   0,   0, 317,   0,   2],\n",
       "       [  0,   0,   0,   0, 243,   0],\n",
       "       [  0,   1,   0,   0,   1, 308]])"
      ]
     },
     "execution_count": 186,
     "metadata": {},
     "output_type": "execute_result"
    }
   ],
   "source": [
    "confusion_matrix(y_pred_log_reg, y_valid)"
   ]
  },
  {
   "cell_type": "markdown",
   "id": "measured-miller",
   "metadata": {},
   "source": [
    "log_reg deals greatly with all walkings "
   ]
  },
  {
   "cell_type": "markdown",
   "id": "separate-gathering",
   "metadata": {},
   "source": [
    "# Random forest classifier"
   ]
  },
  {
   "cell_type": "code",
   "execution_count": 187,
   "id": "iraqi-michigan",
   "metadata": {},
   "outputs": [],
   "source": [
    "from sklearn.ensemble import RandomForestClassifier\n",
    "rfc = RandomForestClassifier(n_estimators=100, criterion='entropy')\n",
    "rfc_pipe = Pipeline(steps=[('preproc', preproc),\n",
    "                          ('scaler', scaler),\n",
    "                          ('model', rfc)])"
   ]
  },
  {
   "cell_type": "code",
   "execution_count": 188,
   "id": "elementary-azerbaijan",
   "metadata": {},
   "outputs": [
    {
     "data": {
      "text/plain": [
       "dict_keys(['memory', 'steps', 'verbose', 'preproc', 'scaler', 'model', 'preproc__n_jobs', 'preproc__remainder', 'preproc__sparse_threshold', 'preproc__transformer_weights', 'preproc__transformers', 'preproc__verbose', 'preproc__num', 'preproc__num__add_indicator', 'preproc__num__copy', 'preproc__num__fill_value', 'preproc__num__missing_values', 'preproc__num__strategy', 'preproc__num__verbose', 'scaler__copy', 'scaler__with_mean', 'scaler__with_std', 'model__bootstrap', 'model__ccp_alpha', 'model__class_weight', 'model__criterion', 'model__max_depth', 'model__max_features', 'model__max_leaf_nodes', 'model__max_samples', 'model__min_impurity_decrease', 'model__min_impurity_split', 'model__min_samples_leaf', 'model__min_samples_split', 'model__min_weight_fraction_leaf', 'model__n_estimators', 'model__n_jobs', 'model__oob_score', 'model__random_state', 'model__verbose', 'model__warm_start'])"
      ]
     },
     "execution_count": 188,
     "metadata": {},
     "output_type": "execute_result"
    }
   ],
   "source": [
    "rfc_pipe.get_params().keys()"
   ]
  },
  {
   "cell_type": "raw",
   "id": "activated-framing",
   "metadata": {},
   "source": [
    "params_grid = {\"model__n_estimators\":[100,150, 500, 750, 1000],\n",
    "             \"model__max_depth\": [1, 5, 10, 25],\n",
    "             \"model__max_features\": [\"auto\", \"log2\"],\n",
    "             \"model__criterion\":[\"gini\", \"entropy\"]}"
   ]
  },
  {
   "cell_type": "raw",
   "id": "pointed-harvard",
   "metadata": {},
   "source": [
    "rfc_grid = GridSearchCV(rfc_pipe, params_grid, cv=5, verbose=3)"
   ]
  },
  {
   "cell_type": "raw",
   "id": "advanced-subsection",
   "metadata": {
    "scrolled": false
   },
   "source": [
    "rfc_grid.fit(X_train, y_train)"
   ]
  },
  {
   "cell_type": "markdown",
   "id": "brown-camping",
   "metadata": {},
   "source": [
    "# Neural Networks"
   ]
  },
  {
   "cell_type": "markdown",
   "id": "endangered-maryland",
   "metadata": {},
   "source": [
    "## Deep neural network with dropout layers"
   ]
  },
  {
   "cell_type": "code",
   "execution_count": 189,
   "id": "toxic-conversation",
   "metadata": {},
   "outputs": [],
   "source": [
    "from tensorflow.keras.models import Sequential\n",
    "from tensorflow.keras.layers import Dense, Dropout, Activation, Input\n",
    "from tensorflow import keras"
   ]
  },
  {
   "cell_type": "code",
   "execution_count": 226,
   "id": "engaged-accused",
   "metadata": {},
   "outputs": [],
   "source": [
    "model = Sequential()\n",
    "model.add(Input(shape=(X_train.shape[1])))\n",
    "model.add(Dense(64, activation='elu', kernel_initializer=\"he_normal\"))\n",
    "model.add(Dropout(0.5))\n",
    "model.add(Dense(64, activation='elu', kernel_initializer=\"he_normal\"))\n",
    "model.add(Dropout(0.5))\n",
    "model.add(Dense(6, activation='softmax'))"
   ]
  },
  {
   "cell_type": "code",
   "execution_count": 227,
   "id": "specialized-signal",
   "metadata": {},
   "outputs": [],
   "source": [
    "optimizer = keras.optimizers.Nadam(lr=0.001, beta_1=0.9, beta_2=0.999)\n",
    "model.compile(loss=\"sparse_categorical_crossentropy\", optimizer=optimizer, metrics=[\"accuracy\"])"
   ]
  },
  {
   "cell_type": "code",
   "execution_count": 228,
   "id": "accepting-joining",
   "metadata": {},
   "outputs": [
    {
     "name": "stdout",
     "output_type": "stream",
     "text": [
      "Epoch 1/32\n",
      "256/256 [==============================] - 1s 3ms/step - loss: 3.2320 - accuracy: 0.3210 - val_loss: 0.6572 - val_accuracy: 0.6903\n",
      "Epoch 2/32\n",
      "256/256 [==============================] - 1s 2ms/step - loss: 1.1540 - accuracy: 0.5558 - val_loss: 0.4911 - val_accuracy: 0.7684\n",
      "Epoch 3/32\n",
      "256/256 [==============================] - 1s 2ms/step - loss: 0.7872 - accuracy: 0.6690 - val_loss: 0.4956 - val_accuracy: 0.7704\n",
      "Epoch 4/32\n",
      "256/256 [==============================] - 1s 2ms/step - loss: 0.6301 - accuracy: 0.7298 - val_loss: 0.3685 - val_accuracy: 0.8505\n",
      "Epoch 5/32\n",
      "256/256 [==============================] - 1s 2ms/step - loss: 0.5295 - accuracy: 0.7701 - val_loss: 0.3167 - val_accuracy: 0.8881\n",
      "Epoch 6/32\n",
      "256/256 [==============================] - 1s 2ms/step - loss: 0.4936 - accuracy: 0.7964 - val_loss: 0.3248 - val_accuracy: 0.8705\n",
      "Epoch 7/32\n",
      "256/256 [==============================] - 1s 2ms/step - loss: 0.4622 - accuracy: 0.8045 - val_loss: 0.2601 - val_accuracy: 0.9047\n",
      "Epoch 8/32\n",
      "256/256 [==============================] - 1s 2ms/step - loss: 0.4120 - accuracy: 0.8313 - val_loss: 0.3672 - val_accuracy: 0.8427\n",
      "Epoch 9/32\n",
      "256/256 [==============================] - 1s 3ms/step - loss: 0.4049 - accuracy: 0.8346 - val_loss: 0.2419 - val_accuracy: 0.9111\n",
      "Epoch 10/32\n",
      "256/256 [==============================] - 1s 2ms/step - loss: 0.3721 - accuracy: 0.8458 - val_loss: 0.2302 - val_accuracy: 0.9121\n",
      "Epoch 11/32\n",
      "256/256 [==============================] - 1s 2ms/step - loss: 0.3518 - accuracy: 0.8501 - val_loss: 0.2217 - val_accuracy: 0.9150\n",
      "Epoch 12/32\n",
      "256/256 [==============================] - 1s 2ms/step - loss: 0.3488 - accuracy: 0.8603 - val_loss: 0.2072 - val_accuracy: 0.9052\n",
      "Epoch 13/32\n",
      "256/256 [==============================] - 1s 2ms/step - loss: 0.3234 - accuracy: 0.8648 - val_loss: 0.2008 - val_accuracy: 0.9267\n",
      "Epoch 14/32\n",
      "256/256 [==============================] - 1s 2ms/step - loss: 0.2983 - accuracy: 0.8719 - val_loss: 0.1909 - val_accuracy: 0.9257\n",
      "Epoch 15/32\n",
      "256/256 [==============================] - 1s 2ms/step - loss: 0.3122 - accuracy: 0.8782 - val_loss: 0.1904 - val_accuracy: 0.9209\n",
      "Epoch 16/32\n",
      "256/256 [==============================] - 1s 2ms/step - loss: 0.2848 - accuracy: 0.8883 - val_loss: 0.1942 - val_accuracy: 0.9277\n",
      "Epoch 17/32\n",
      "256/256 [==============================] - 1s 2ms/step - loss: 0.2834 - accuracy: 0.8873 - val_loss: 0.1668 - val_accuracy: 0.9301\n",
      "Epoch 18/32\n",
      "256/256 [==============================] - 1s 2ms/step - loss: 0.2717 - accuracy: 0.8978 - val_loss: 0.1626 - val_accuracy: 0.9345\n",
      "Epoch 19/32\n",
      "256/256 [==============================] - 1s 2ms/step - loss: 0.2407 - accuracy: 0.9034 - val_loss: 0.1476 - val_accuracy: 0.9428\n",
      "Epoch 20/32\n",
      "256/256 [==============================] - 1s 2ms/step - loss: 0.2816 - accuracy: 0.8917 - val_loss: 0.1461 - val_accuracy: 0.9448\n",
      "Epoch 21/32\n",
      "256/256 [==============================] - 1s 2ms/step - loss: 0.2468 - accuracy: 0.8992 - val_loss: 0.2169 - val_accuracy: 0.9184\n",
      "Epoch 22/32\n",
      "256/256 [==============================] - 1s 2ms/step - loss: 0.2800 - accuracy: 0.8882 - val_loss: 0.1500 - val_accuracy: 0.9414\n",
      "Epoch 23/32\n",
      "256/256 [==============================] - 1s 2ms/step - loss: 0.2519 - accuracy: 0.9073 - val_loss: 0.1490 - val_accuracy: 0.9365\n",
      "Epoch 24/32\n",
      "256/256 [==============================] - 1s 2ms/step - loss: 0.2266 - accuracy: 0.9099 - val_loss: 0.1532 - val_accuracy: 0.9424\n",
      "Epoch 25/32\n",
      "256/256 [==============================] - 1s 2ms/step - loss: 0.2244 - accuracy: 0.9184 - val_loss: 0.1297 - val_accuracy: 0.9468\n",
      "Epoch 26/32\n",
      "256/256 [==============================] - 1s 2ms/step - loss: 0.2173 - accuracy: 0.9145 - val_loss: 0.1436 - val_accuracy: 0.9448\n",
      "Epoch 27/32\n",
      "256/256 [==============================] - 1s 2ms/step - loss: 0.2484 - accuracy: 0.9058 - val_loss: 0.1522 - val_accuracy: 0.9433\n",
      "Epoch 28/32\n",
      "256/256 [==============================] - 1s 2ms/step - loss: 0.2448 - accuracy: 0.9080 - val_loss: 0.1401 - val_accuracy: 0.9389\n",
      "Epoch 29/32\n",
      "256/256 [==============================] - 1s 2ms/step - loss: 0.2367 - accuracy: 0.9110 - val_loss: 0.1202 - val_accuracy: 0.9565\n",
      "Epoch 30/32\n",
      "256/256 [==============================] - 1s 2ms/step - loss: 0.2145 - accuracy: 0.9174 - val_loss: 0.1136 - val_accuracy: 0.9541\n",
      "Epoch 31/32\n",
      "256/256 [==============================] - 1s 2ms/step - loss: 0.2041 - accuracy: 0.9250 - val_loss: 0.1184 - val_accuracy: 0.9555\n",
      "Epoch 32/32\n",
      "256/256 [==============================] - 1s 2ms/step - loss: 0.2192 - accuracy: 0.9198 - val_loss: 0.1396 - val_accuracy: 0.9492\n"
     ]
    }
   ],
   "source": [
    "history = model.fit(X_train, y_train, epochs=32, validation_data=(X_valid, y_valid))"
   ]
  },
  {
   "cell_type": "code",
   "execution_count": 229,
   "id": "compatible-intersection",
   "metadata": {},
   "outputs": [
    {
     "data": {
      "image/png": "[encoded data removed]",
      "text/plain": [
       "<Figure size 720x288 with 1 Axes>"
      ]
     },
     "metadata": {
      "needs_background": "light"
     },
     "output_type": "display_data"
    },
    {
     "data": {
      "image/png": "[encoded data removed]",
      "text/plain": [
       "<Figure size 720x288 with 1 Axes>"
      ]
     },
     "metadata": {
      "needs_background": "light"
     },
     "output_type": "display_data"
    }
   ],
   "source": [
    "rcParams['figure.figsize'] = 10, 4\n",
    "plt.plot(history.history['accuracy'])\n",
    "plt.plot(history.history['val_accuracy'])\n",
    "plt.title('model accuracy')\n",
    "plt.ylabel('accuracy')\n",
    "plt.xlabel('epoch')\n",
    "plt.legend(['train', 'test'], loc='upper left')\n",
    "plt.show()\n",
    "# summarize history for loss\n",
    "plt.plot(history.history['loss'])\n",
    "plt.plot(history.history['val_loss'])\n",
    "plt.title('model loss')\n",
    "plt.ylabel('loss')\n",
    "plt.xlabel('epoch')\n",
    "plt.legend(['train', 'test'], loc='upper left')\n",
    "plt.show()"
   ]
  },
  {
   "cell_type": "code",
   "execution_count": 230,
   "id": "promotional-juice",
   "metadata": {},
   "outputs": [],
   "source": [
    "nn_y_pred = model.predict(X_valid)"
   ]
  },
  {
   "cell_type": "code",
   "execution_count": 231,
   "id": "annual-audio",
   "metadata": {},
   "outputs": [
    {
     "data": {
      "text/plain": [
       "array([3, 5, 4, 3, 4, 1, 3, 0, 1, 2])"
      ]
     },
     "execution_count": 231,
     "metadata": {},
     "output_type": "execute_result"
    }
   ],
   "source": [
    "nn_y_pred[:10].argmax(axis=1)"
   ]
  },
  {
   "cell_type": "code",
   "execution_count": 232,
   "id": "therapeutic-radius",
   "metadata": {
    "scrolled": true
   },
   "outputs": [
    {
     "data": {
      "text/plain": [
       "0.9491939423546654"
      ]
     },
     "execution_count": 232,
     "metadata": {},
     "output_type": "execute_result"
    }
   ],
   "source": [
    "accuracy_score(nn_y_pred.argmax(axis=1), y_valid)"
   ]
  },
  {
   "cell_type": "code",
   "execution_count": 233,
   "id": "running-cooler",
   "metadata": {},
   "outputs": [
    {
     "data": {
      "text/plain": [
       "array([[399,   8,   0,   0,   0,   0],\n",
       "       [  0, 346,  17,   0,   0,   0],\n",
       "       [  0,  53, 351,   0,   0,   0],\n",
       "       [  0,   0,   0, 317,   4,  18],\n",
       "       [  0,   1,   0,   0, 239,   1],\n",
       "       [  0,   1,   0,   0,   1, 291]])"
      ]
     },
     "execution_count": 233,
     "metadata": {},
     "output_type": "execute_result"
    }
   ],
   "source": [
    "confusion_matrix(nn_y_pred.argmax(axis=1), y_valid)"
   ]
  }
 ],
 "metadata": {
  "kernelspec": {
   "display_name": "Python 3",
   "language": "python",
   "name": "python3"
  },
  "language_info": {
   "codemirror_mode": {
    "name": "ipython",
    "version": 3
   },
   "file_extension": ".py",
   "mimetype": "text/x-python",
   "name": "python",
   "nbconvert_exporter": "python",
   "pygments_lexer": "ipython3",
   "version": "3.8.5"
  }
 },
 "nbformat": 4,
 "nbformat_minor": 5
}
